{
  "nbformat": 4,
  "nbformat_minor": 0,
  "metadata": {
    "colab": {
      "provenance": [],
      "collapsed_sections": [
        "3IwbDesTs-dr",
        "sLT4FEhRfqct",
        "zQvGUYHjpdIc",
        "NNn8fs7Yo1DL",
        "kMRWpCx3ufxA",
        "TrAHjeLjOBQQ",
        "sciVwi11RtXY",
        "Tj0aLqrtOKPc",
        "ZYBcwuA6hVQu",
        "m_iUTKpT6ZGw",
        "xr4avc2gI9n6"
      ]
    },
    "kernelspec": {
      "name": "python3",
      "display_name": "Python 3"
    }
  },
  "cells": [
    {
      "cell_type": "markdown",
      "metadata": {
        "id": "uQ6wc2HE0pke"
      },
      "source": [
        "# **Experiments 1**\n",
        "\n"
      ]
    },
    {
      "cell_type": "markdown",
      "metadata": {
        "id": "2_OzElWylM3Y"
      },
      "source": [
        "## The steps are:\n",
        "1.   Load and explore dataset\n",
        "2.   Data preparation\n",
        "3.   Split data\n",
        "4.   Scale data\n",
        "5.   Assess Baseline model\n",
        "6.   Train Logistic Regression Classifier\n",
        "7.   Train Logistic Regression Classifier with L1 and L2 Regularisation\n",
        "8.   Build a KNN model using euclidean distance\n",
        "9.   Train SVC with default hyperparamaters\n",
        "10.  Train Decision tree with default hyperparamaters\n",
        "11.  Assess model on Testing Set"
      ]
    },
    {
      "cell_type": "markdown",
      "metadata": {
        "id": "3IwbDesTs-dr"
      },
      "source": [
        "## 1. Load and explore dataset"
      ]
    },
    {
      "cell_type": "markdown",
      "metadata": {
        "id": "qMQmbGW_tKJ-"
      },
      "source": [
        "**[1.1]** Import packages"
      ]
    },
    {
      "cell_type": "code",
      "metadata": {
        "id": "2vRVBbfjtOhU"
      },
      "source": [
        "import pandas as pd\n",
        "import numpy as np"
      ],
      "execution_count": 1,
      "outputs": []
    },
    {
      "cell_type": "markdown",
      "metadata": {
        "id": "DzT7km_-tTKZ"
      },
      "source": [
        "**[1.2]** Create a variable called file_url containing the CSV file and load the dataset into dataframe called df"
      ]
    },
    {
      "cell_type": "code",
      "metadata": {
        "id": "lF-hsEINtTkK"
      },
      "source": [
        "file_url = 'repurchase_training.csv'\n",
        "df = pd.read_csv(file_url)"
      ],
      "execution_count": 2,
      "outputs": []
    },
    {
      "cell_type": "markdown",
      "metadata": {
        "id": "3_LcXROJtzuB"
      },
      "source": [
        "**[1.3]** Display the first 5 rows of df\n"
      ]
    },
    {
      "cell_type": "code",
      "metadata": {
        "id": "UQCI2nkSK_Cw",
        "colab": {
          "base_uri": "https://localhost:8080/",
          "height": 268
        },
        "outputId": "5f5ca971-2a2d-4a14-a84e-b05902e42d3f"
      },
      "source": [
        "df.head()"
      ],
      "execution_count": 3,
      "outputs": [
        {
          "output_type": "execute_result",
          "data": {
            "text/plain": [
              "   ID  Target     age_band  gender car_model   car_segment  \\\n",
              "0   1       0  3. 35 to 44    Male   model_1           LCV   \n",
              "1   2       0          NaN     NaN   model_2  Small/Medium   \n",
              "2   3       0          NaN    Male   model_3     Large/SUV   \n",
              "3   5       0          NaN     NaN   model_3     Large/SUV   \n",
              "4   6       0          NaN  Female   model_2  Small/Medium   \n",
              "\n",
              "   age_of_vehicle_years  sched_serv_warr  non_sched_serv_warr  \\\n",
              "0                     9                2                   10   \n",
              "1                     6               10                    3   \n",
              "2                     9               10                    9   \n",
              "3                     5                8                    5   \n",
              "4                     8                9                    4   \n",
              "\n",
              "   sched_serv_paid  non_sched_serv_paid  total_paid_services  total_services  \\\n",
              "0                3                    7                    5               6   \n",
              "1               10                    4                    9              10   \n",
              "2               10                    9                   10              10   \n",
              "3                8                    4                    5               6   \n",
              "4               10                    7                    9               8   \n",
              "\n",
              "   mth_since_last_serv  annualised_mileage  num_dealers_visited  \\\n",
              "0                    9                   8                   10   \n",
              "1                    6                  10                    7   \n",
              "2                    7                  10                    6   \n",
              "3                    4                  10                    9   \n",
              "4                    5                   4                    4   \n",
              "\n",
              "   num_serv_dealer_purchased  \n",
              "0                          4  \n",
              "1                         10  \n",
              "2                         10  \n",
              "3                          7  \n",
              "4                          9  "
            ],
            "text/html": [
              "\n",
              "  <div id=\"df-7a50c87d-1165-4ea6-8e0d-1582672b46bc\">\n",
              "    <div class=\"colab-df-container\">\n",
              "      <div>\n",
              "<style scoped>\n",
              "    .dataframe tbody tr th:only-of-type {\n",
              "        vertical-align: middle;\n",
              "    }\n",
              "\n",
              "    .dataframe tbody tr th {\n",
              "        vertical-align: top;\n",
              "    }\n",
              "\n",
              "    .dataframe thead th {\n",
              "        text-align: right;\n",
              "    }\n",
              "</style>\n",
              "<table border=\"1\" class=\"dataframe\">\n",
              "  <thead>\n",
              "    <tr style=\"text-align: right;\">\n",
              "      <th></th>\n",
              "      <th>ID</th>\n",
              "      <th>Target</th>\n",
              "      <th>age_band</th>\n",
              "      <th>gender</th>\n",
              "      <th>car_model</th>\n",
              "      <th>car_segment</th>\n",
              "      <th>age_of_vehicle_years</th>\n",
              "      <th>sched_serv_warr</th>\n",
              "      <th>non_sched_serv_warr</th>\n",
              "      <th>sched_serv_paid</th>\n",
              "      <th>non_sched_serv_paid</th>\n",
              "      <th>total_paid_services</th>\n",
              "      <th>total_services</th>\n",
              "      <th>mth_since_last_serv</th>\n",
              "      <th>annualised_mileage</th>\n",
              "      <th>num_dealers_visited</th>\n",
              "      <th>num_serv_dealer_purchased</th>\n",
              "    </tr>\n",
              "  </thead>\n",
              "  <tbody>\n",
              "    <tr>\n",
              "      <th>0</th>\n",
              "      <td>1</td>\n",
              "      <td>0</td>\n",
              "      <td>3. 35 to 44</td>\n",
              "      <td>Male</td>\n",
              "      <td>model_1</td>\n",
              "      <td>LCV</td>\n",
              "      <td>9</td>\n",
              "      <td>2</td>\n",
              "      <td>10</td>\n",
              "      <td>3</td>\n",
              "      <td>7</td>\n",
              "      <td>5</td>\n",
              "      <td>6</td>\n",
              "      <td>9</td>\n",
              "      <td>8</td>\n",
              "      <td>10</td>\n",
              "      <td>4</td>\n",
              "    </tr>\n",
              "    <tr>\n",
              "      <th>1</th>\n",
              "      <td>2</td>\n",
              "      <td>0</td>\n",
              "      <td>NaN</td>\n",
              "      <td>NaN</td>\n",
              "      <td>model_2</td>\n",
              "      <td>Small/Medium</td>\n",
              "      <td>6</td>\n",
              "      <td>10</td>\n",
              "      <td>3</td>\n",
              "      <td>10</td>\n",
              "      <td>4</td>\n",
              "      <td>9</td>\n",
              "      <td>10</td>\n",
              "      <td>6</td>\n",
              "      <td>10</td>\n",
              "      <td>7</td>\n",
              "      <td>10</td>\n",
              "    </tr>\n",
              "    <tr>\n",
              "      <th>2</th>\n",
              "      <td>3</td>\n",
              "      <td>0</td>\n",
              "      <td>NaN</td>\n",
              "      <td>Male</td>\n",
              "      <td>model_3</td>\n",
              "      <td>Large/SUV</td>\n",
              "      <td>9</td>\n",
              "      <td>10</td>\n",
              "      <td>9</td>\n",
              "      <td>10</td>\n",
              "      <td>9</td>\n",
              "      <td>10</td>\n",
              "      <td>10</td>\n",
              "      <td>7</td>\n",
              "      <td>10</td>\n",
              "      <td>6</td>\n",
              "      <td>10</td>\n",
              "    </tr>\n",
              "    <tr>\n",
              "      <th>3</th>\n",
              "      <td>5</td>\n",
              "      <td>0</td>\n",
              "      <td>NaN</td>\n",
              "      <td>NaN</td>\n",
              "      <td>model_3</td>\n",
              "      <td>Large/SUV</td>\n",
              "      <td>5</td>\n",
              "      <td>8</td>\n",
              "      <td>5</td>\n",
              "      <td>8</td>\n",
              "      <td>4</td>\n",
              "      <td>5</td>\n",
              "      <td>6</td>\n",
              "      <td>4</td>\n",
              "      <td>10</td>\n",
              "      <td>9</td>\n",
              "      <td>7</td>\n",
              "    </tr>\n",
              "    <tr>\n",
              "      <th>4</th>\n",
              "      <td>6</td>\n",
              "      <td>0</td>\n",
              "      <td>NaN</td>\n",
              "      <td>Female</td>\n",
              "      <td>model_2</td>\n",
              "      <td>Small/Medium</td>\n",
              "      <td>8</td>\n",
              "      <td>9</td>\n",
              "      <td>4</td>\n",
              "      <td>10</td>\n",
              "      <td>7</td>\n",
              "      <td>9</td>\n",
              "      <td>8</td>\n",
              "      <td>5</td>\n",
              "      <td>4</td>\n",
              "      <td>4</td>\n",
              "      <td>9</td>\n",
              "    </tr>\n",
              "  </tbody>\n",
              "</table>\n",
              "</div>\n",
              "      <button class=\"colab-df-convert\" onclick=\"convertToInteractive('df-7a50c87d-1165-4ea6-8e0d-1582672b46bc')\"\n",
              "              title=\"Convert this dataframe to an interactive table.\"\n",
              "              style=\"display:none;\">\n",
              "        \n",
              "  <svg xmlns=\"http://www.w3.org/2000/svg\" height=\"24px\"viewBox=\"0 0 24 24\"\n",
              "       width=\"24px\">\n",
              "    <path d=\"M0 0h24v24H0V0z\" fill=\"none\"/>\n",
              "    <path d=\"M18.56 5.44l.94 2.06.94-2.06 2.06-.94-2.06-.94-.94-2.06-.94 2.06-2.06.94zm-11 1L8.5 8.5l.94-2.06 2.06-.94-2.06-.94L8.5 2.5l-.94 2.06-2.06.94zm10 10l.94 2.06.94-2.06 2.06-.94-2.06-.94-.94-2.06-.94 2.06-2.06.94z\"/><path d=\"M17.41 7.96l-1.37-1.37c-.4-.4-.92-.59-1.43-.59-.52 0-1.04.2-1.43.59L10.3 9.45l-7.72 7.72c-.78.78-.78 2.05 0 2.83L4 21.41c.39.39.9.59 1.41.59.51 0 1.02-.2 1.41-.59l7.78-7.78 2.81-2.81c.8-.78.8-2.07 0-2.86zM5.41 20L4 18.59l7.72-7.72 1.47 1.35L5.41 20z\"/>\n",
              "  </svg>\n",
              "      </button>\n",
              "      \n",
              "  <style>\n",
              "    .colab-df-container {\n",
              "      display:flex;\n",
              "      flex-wrap:wrap;\n",
              "      gap: 12px;\n",
              "    }\n",
              "\n",
              "    .colab-df-convert {\n",
              "      background-color: #E8F0FE;\n",
              "      border: none;\n",
              "      border-radius: 50%;\n",
              "      cursor: pointer;\n",
              "      display: none;\n",
              "      fill: #1967D2;\n",
              "      height: 32px;\n",
              "      padding: 0 0 0 0;\n",
              "      width: 32px;\n",
              "    }\n",
              "\n",
              "    .colab-df-convert:hover {\n",
              "      background-color: #E2EBFA;\n",
              "      box-shadow: 0px 1px 2px rgba(60, 64, 67, 0.3), 0px 1px 3px 1px rgba(60, 64, 67, 0.15);\n",
              "      fill: #174EA6;\n",
              "    }\n",
              "\n",
              "    [theme=dark] .colab-df-convert {\n",
              "      background-color: #3B4455;\n",
              "      fill: #D2E3FC;\n",
              "    }\n",
              "\n",
              "    [theme=dark] .colab-df-convert:hover {\n",
              "      background-color: #434B5C;\n",
              "      box-shadow: 0px 1px 3px 1px rgba(0, 0, 0, 0.15);\n",
              "      filter: drop-shadow(0px 1px 2px rgba(0, 0, 0, 0.3));\n",
              "      fill: #FFFFFF;\n",
              "    }\n",
              "  </style>\n",
              "\n",
              "      <script>\n",
              "        const buttonEl =\n",
              "          document.querySelector('#df-7a50c87d-1165-4ea6-8e0d-1582672b46bc button.colab-df-convert');\n",
              "        buttonEl.style.display =\n",
              "          google.colab.kernel.accessAllowed ? 'block' : 'none';\n",
              "\n",
              "        async function convertToInteractive(key) {\n",
              "          const element = document.querySelector('#df-7a50c87d-1165-4ea6-8e0d-1582672b46bc');\n",
              "          const dataTable =\n",
              "            await google.colab.kernel.invokeFunction('convertToInteractive',\n",
              "                                                     [key], {});\n",
              "          if (!dataTable) return;\n",
              "\n",
              "          const docLinkHtml = 'Like what you see? Visit the ' +\n",
              "            '<a target=\"_blank\" href=https://colab.research.google.com/notebooks/data_table.ipynb>data table notebook</a>'\n",
              "            + ' to learn more about interactive tables.';\n",
              "          element.innerHTML = '';\n",
              "          dataTable['output_type'] = 'display_data';\n",
              "          await google.colab.output.renderOutput(dataTable, element);\n",
              "          const docLink = document.createElement('div');\n",
              "          docLink.innerHTML = docLinkHtml;\n",
              "          element.appendChild(docLink);\n",
              "        }\n",
              "      </script>\n",
              "    </div>\n",
              "  </div>\n",
              "  "
            ]
          },
          "metadata": {},
          "execution_count": 3
        }
      ]
    },
    {
      "cell_type": "markdown",
      "metadata": {
        "id": "8Ck-nyJyK_ef"
      },
      "source": [
        "**[1.4]** Display the dimensions of df"
      ]
    },
    {
      "cell_type": "code",
      "metadata": {
        "id": "bVXzXR2Bxfvi",
        "colab": {
          "base_uri": "https://localhost:8080/"
        },
        "outputId": "b0f09c5f-a19a-441c-b3d9-548422529ab6"
      },
      "source": [
        "df.shape"
      ],
      "execution_count": 4,
      "outputs": [
        {
          "output_type": "execute_result",
          "data": {
            "text/plain": [
              "(131337, 17)"
            ]
          },
          "metadata": {},
          "execution_count": 4
        }
      ]
    },
    {
      "cell_type": "markdown",
      "metadata": {
        "id": "JNXwJBVPxws1"
      },
      "source": [
        "**[1.5]** Display the summary of df"
      ]
    },
    {
      "cell_type": "code",
      "metadata": {
        "id": "DSzdprjXzlnN",
        "colab": {
          "base_uri": "https://localhost:8080/"
        },
        "outputId": "bac8e86e-ff79-4de1-bfc6-02ccfbd5451b"
      },
      "source": [
        "df.info()"
      ],
      "execution_count": 5,
      "outputs": [
        {
          "output_type": "stream",
          "name": "stdout",
          "text": [
            "<class 'pandas.core.frame.DataFrame'>\n",
            "RangeIndex: 131337 entries, 0 to 131336\n",
            "Data columns (total 17 columns):\n",
            " #   Column                     Non-Null Count   Dtype \n",
            "---  ------                     --------------   ----- \n",
            " 0   ID                         131337 non-null  int64 \n",
            " 1   Target                     131337 non-null  int64 \n",
            " 2   age_band                   18962 non-null   object\n",
            " 3   gender                     62029 non-null   object\n",
            " 4   car_model                  131337 non-null  object\n",
            " 5   car_segment                131337 non-null  object\n",
            " 6   age_of_vehicle_years       131337 non-null  int64 \n",
            " 7   sched_serv_warr            131337 non-null  int64 \n",
            " 8   non_sched_serv_warr        131337 non-null  int64 \n",
            " 9   sched_serv_paid            131337 non-null  int64 \n",
            " 10  non_sched_serv_paid        131337 non-null  int64 \n",
            " 11  total_paid_services        131337 non-null  int64 \n",
            " 12  total_services             131337 non-null  int64 \n",
            " 13  mth_since_last_serv        131337 non-null  int64 \n",
            " 14  annualised_mileage         131337 non-null  int64 \n",
            " 15  num_dealers_visited        131337 non-null  int64 \n",
            " 16  num_serv_dealer_purchased  131337 non-null  int64 \n",
            "dtypes: int64(13), object(4)\n",
            "memory usage: 17.0+ MB\n"
          ]
        }
      ]
    },
    {
      "cell_type": "markdown",
      "metadata": {
        "id": "1UJCNeUmziyR"
      },
      "source": [
        "Columns with missing data: **age_band and gender**"
      ]
    },
    {
      "cell_type": "markdown",
      "metadata": {
        "id": "0MhNgwrTvitS"
      },
      "source": [
        "**[1.6]** Display the descriptive statictics of df\n"
      ]
    },
    {
      "cell_type": "code",
      "metadata": {
        "id": "5uLDkH7D0xZa",
        "colab": {
          "base_uri": "https://localhost:8080/"
        },
        "outputId": "7ab6b193-e549-4b12-ac3a-29d31369b7c0"
      },
      "source": [
        "df.describe()"
      ],
      "execution_count": 6,
      "outputs": [
        {
          "output_type": "execute_result",
          "data": {
            "text/plain": [
              "                  ID         Target  age_of_vehicle_years  sched_serv_warr  \\\n",
              "count  131337.000000  131337.000000         131337.000000    131337.000000   \n",
              "mean    77097.384180       0.026809              5.493022         5.452500   \n",
              "std     44501.636704       0.161525              2.843299         2.884328   \n",
              "min         1.000000       0.000000              1.000000         1.000000   \n",
              "25%     38563.000000       0.000000              3.000000         3.000000   \n",
              "50%     77132.000000       0.000000              5.000000         5.000000   \n",
              "75%    115668.000000       0.000000              8.000000         8.000000   \n",
              "max    154139.000000       1.000000             10.000000        10.000000   \n",
              "\n",
              "       non_sched_serv_warr  sched_serv_paid  non_sched_serv_paid  \\\n",
              "count        131337.000000    131337.000000        131337.000000   \n",
              "mean              5.472517         5.452287             5.497050   \n",
              "std               2.870665         2.886528             2.878699   \n",
              "min               1.000000         1.000000             1.000000   \n",
              "25%               3.000000         3.000000             3.000000   \n",
              "50%               5.000000         5.000000             5.000000   \n",
              "75%               8.000000         8.000000             8.000000   \n",
              "max              10.000000        10.000000            10.000000   \n",
              "\n",
              "       total_paid_services  total_services  mth_since_last_serv  \\\n",
              "count        131337.000000   131337.000000        131337.000000   \n",
              "mean              5.481692        5.454967             5.469807   \n",
              "std               2.880408        2.875961             2.859756   \n",
              "min               1.000000        1.000000             1.000000   \n",
              "25%               3.000000        3.000000             3.000000   \n",
              "50%               5.000000        5.000000             5.000000   \n",
              "75%               8.000000        8.000000             8.000000   \n",
              "max              10.000000       10.000000            10.000000   \n",
              "\n",
              "       annualised_mileage  num_dealers_visited  num_serv_dealer_purchased  \n",
              "count       131337.000000        131337.000000              131337.000000  \n",
              "mean             5.502836             5.485438                   5.480778  \n",
              "std              2.854896             2.876772                   2.867524  \n",
              "min              1.000000             1.000000                   1.000000  \n",
              "25%              3.000000             3.000000                   3.000000  \n",
              "50%              5.000000             5.000000                   5.000000  \n",
              "75%              8.000000             8.000000                   8.000000  \n",
              "max             10.000000            10.000000                  10.000000  "
            ],
            "text/html": [
              "\n",
              "  <div id=\"df-e7bdd894-a2c9-41a8-b544-5ea2438e0a67\">\n",
              "    <div class=\"colab-df-container\">\n",
              "      <div>\n",
              "<style scoped>\n",
              "    .dataframe tbody tr th:only-of-type {\n",
              "        vertical-align: middle;\n",
              "    }\n",
              "\n",
              "    .dataframe tbody tr th {\n",
              "        vertical-align: top;\n",
              "    }\n",
              "\n",
              "    .dataframe thead th {\n",
              "        text-align: right;\n",
              "    }\n",
              "</style>\n",
              "<table border=\"1\" class=\"dataframe\">\n",
              "  <thead>\n",
              "    <tr style=\"text-align: right;\">\n",
              "      <th></th>\n",
              "      <th>ID</th>\n",
              "      <th>Target</th>\n",
              "      <th>age_of_vehicle_years</th>\n",
              "      <th>sched_serv_warr</th>\n",
              "      <th>non_sched_serv_warr</th>\n",
              "      <th>sched_serv_paid</th>\n",
              "      <th>non_sched_serv_paid</th>\n",
              "      <th>total_paid_services</th>\n",
              "      <th>total_services</th>\n",
              "      <th>mth_since_last_serv</th>\n",
              "      <th>annualised_mileage</th>\n",
              "      <th>num_dealers_visited</th>\n",
              "      <th>num_serv_dealer_purchased</th>\n",
              "    </tr>\n",
              "  </thead>\n",
              "  <tbody>\n",
              "    <tr>\n",
              "      <th>count</th>\n",
              "      <td>131337.000000</td>\n",
              "      <td>131337.000000</td>\n",
              "      <td>131337.000000</td>\n",
              "      <td>131337.000000</td>\n",
              "      <td>131337.000000</td>\n",
              "      <td>131337.000000</td>\n",
              "      <td>131337.000000</td>\n",
              "      <td>131337.000000</td>\n",
              "      <td>131337.000000</td>\n",
              "      <td>131337.000000</td>\n",
              "      <td>131337.000000</td>\n",
              "      <td>131337.000000</td>\n",
              "      <td>131337.000000</td>\n",
              "    </tr>\n",
              "    <tr>\n",
              "      <th>mean</th>\n",
              "      <td>77097.384180</td>\n",
              "      <td>0.026809</td>\n",
              "      <td>5.493022</td>\n",
              "      <td>5.452500</td>\n",
              "      <td>5.472517</td>\n",
              "      <td>5.452287</td>\n",
              "      <td>5.497050</td>\n",
              "      <td>5.481692</td>\n",
              "      <td>5.454967</td>\n",
              "      <td>5.469807</td>\n",
              "      <td>5.502836</td>\n",
              "      <td>5.485438</td>\n",
              "      <td>5.480778</td>\n",
              "    </tr>\n",
              "    <tr>\n",
              "      <th>std</th>\n",
              "      <td>44501.636704</td>\n",
              "      <td>0.161525</td>\n",
              "      <td>2.843299</td>\n",
              "      <td>2.884328</td>\n",
              "      <td>2.870665</td>\n",
              "      <td>2.886528</td>\n",
              "      <td>2.878699</td>\n",
              "      <td>2.880408</td>\n",
              "      <td>2.875961</td>\n",
              "      <td>2.859756</td>\n",
              "      <td>2.854896</td>\n",
              "      <td>2.876772</td>\n",
              "      <td>2.867524</td>\n",
              "    </tr>\n",
              "    <tr>\n",
              "      <th>min</th>\n",
              "      <td>1.000000</td>\n",
              "      <td>0.000000</td>\n",
              "      <td>1.000000</td>\n",
              "      <td>1.000000</td>\n",
              "      <td>1.000000</td>\n",
              "      <td>1.000000</td>\n",
              "      <td>1.000000</td>\n",
              "      <td>1.000000</td>\n",
              "      <td>1.000000</td>\n",
              "      <td>1.000000</td>\n",
              "      <td>1.000000</td>\n",
              "      <td>1.000000</td>\n",
              "      <td>1.000000</td>\n",
              "    </tr>\n",
              "    <tr>\n",
              "      <th>25%</th>\n",
              "      <td>38563.000000</td>\n",
              "      <td>0.000000</td>\n",
              "      <td>3.000000</td>\n",
              "      <td>3.000000</td>\n",
              "      <td>3.000000</td>\n",
              "      <td>3.000000</td>\n",
              "      <td>3.000000</td>\n",
              "      <td>3.000000</td>\n",
              "      <td>3.000000</td>\n",
              "      <td>3.000000</td>\n",
              "      <td>3.000000</td>\n",
              "      <td>3.000000</td>\n",
              "      <td>3.000000</td>\n",
              "    </tr>\n",
              "    <tr>\n",
              "      <th>50%</th>\n",
              "      <td>77132.000000</td>\n",
              "      <td>0.000000</td>\n",
              "      <td>5.000000</td>\n",
              "      <td>5.000000</td>\n",
              "      <td>5.000000</td>\n",
              "      <td>5.000000</td>\n",
              "      <td>5.000000</td>\n",
              "      <td>5.000000</td>\n",
              "      <td>5.000000</td>\n",
              "      <td>5.000000</td>\n",
              "      <td>5.000000</td>\n",
              "      <td>5.000000</td>\n",
              "      <td>5.000000</td>\n",
              "    </tr>\n",
              "    <tr>\n",
              "      <th>75%</th>\n",
              "      <td>115668.000000</td>\n",
              "      <td>0.000000</td>\n",
              "      <td>8.000000</td>\n",
              "      <td>8.000000</td>\n",
              "      <td>8.000000</td>\n",
              "      <td>8.000000</td>\n",
              "      <td>8.000000</td>\n",
              "      <td>8.000000</td>\n",
              "      <td>8.000000</td>\n",
              "      <td>8.000000</td>\n",
              "      <td>8.000000</td>\n",
              "      <td>8.000000</td>\n",
              "      <td>8.000000</td>\n",
              "    </tr>\n",
              "    <tr>\n",
              "      <th>max</th>\n",
              "      <td>154139.000000</td>\n",
              "      <td>1.000000</td>\n",
              "      <td>10.000000</td>\n",
              "      <td>10.000000</td>\n",
              "      <td>10.000000</td>\n",
              "      <td>10.000000</td>\n",
              "      <td>10.000000</td>\n",
              "      <td>10.000000</td>\n",
              "      <td>10.000000</td>\n",
              "      <td>10.000000</td>\n",
              "      <td>10.000000</td>\n",
              "      <td>10.000000</td>\n",
              "      <td>10.000000</td>\n",
              "    </tr>\n",
              "  </tbody>\n",
              "</table>\n",
              "</div>\n",
              "      <button class=\"colab-df-convert\" onclick=\"convertToInteractive('df-e7bdd894-a2c9-41a8-b544-5ea2438e0a67')\"\n",
              "              title=\"Convert this dataframe to an interactive table.\"\n",
              "              style=\"display:none;\">\n",
              "        \n",
              "  <svg xmlns=\"http://www.w3.org/2000/svg\" height=\"24px\"viewBox=\"0 0 24 24\"\n",
              "       width=\"24px\">\n",
              "    <path d=\"M0 0h24v24H0V0z\" fill=\"none\"/>\n",
              "    <path d=\"M18.56 5.44l.94 2.06.94-2.06 2.06-.94-2.06-.94-.94-2.06-.94 2.06-2.06.94zm-11 1L8.5 8.5l.94-2.06 2.06-.94-2.06-.94L8.5 2.5l-.94 2.06-2.06.94zm10 10l.94 2.06.94-2.06 2.06-.94-2.06-.94-.94-2.06-.94 2.06-2.06.94z\"/><path d=\"M17.41 7.96l-1.37-1.37c-.4-.4-.92-.59-1.43-.59-.52 0-1.04.2-1.43.59L10.3 9.45l-7.72 7.72c-.78.78-.78 2.05 0 2.83L4 21.41c.39.39.9.59 1.41.59.51 0 1.02-.2 1.41-.59l7.78-7.78 2.81-2.81c.8-.78.8-2.07 0-2.86zM5.41 20L4 18.59l7.72-7.72 1.47 1.35L5.41 20z\"/>\n",
              "  </svg>\n",
              "      </button>\n",
              "      \n",
              "  <style>\n",
              "    .colab-df-container {\n",
              "      display:flex;\n",
              "      flex-wrap:wrap;\n",
              "      gap: 12px;\n",
              "    }\n",
              "\n",
              "    .colab-df-convert {\n",
              "      background-color: #E8F0FE;\n",
              "      border: none;\n",
              "      border-radius: 50%;\n",
              "      cursor: pointer;\n",
              "      display: none;\n",
              "      fill: #1967D2;\n",
              "      height: 32px;\n",
              "      padding: 0 0 0 0;\n",
              "      width: 32px;\n",
              "    }\n",
              "\n",
              "    .colab-df-convert:hover {\n",
              "      background-color: #E2EBFA;\n",
              "      box-shadow: 0px 1px 2px rgba(60, 64, 67, 0.3), 0px 1px 3px 1px rgba(60, 64, 67, 0.15);\n",
              "      fill: #174EA6;\n",
              "    }\n",
              "\n",
              "    [theme=dark] .colab-df-convert {\n",
              "      background-color: #3B4455;\n",
              "      fill: #D2E3FC;\n",
              "    }\n",
              "\n",
              "    [theme=dark] .colab-df-convert:hover {\n",
              "      background-color: #434B5C;\n",
              "      box-shadow: 0px 1px 3px 1px rgba(0, 0, 0, 0.15);\n",
              "      filter: drop-shadow(0px 1px 2px rgba(0, 0, 0, 0.3));\n",
              "      fill: #FFFFFF;\n",
              "    }\n",
              "  </style>\n",
              "\n",
              "      <script>\n",
              "        const buttonEl =\n",
              "          document.querySelector('#df-e7bdd894-a2c9-41a8-b544-5ea2438e0a67 button.colab-df-convert');\n",
              "        buttonEl.style.display =\n",
              "          google.colab.kernel.accessAllowed ? 'block' : 'none';\n",
              "\n",
              "        async function convertToInteractive(key) {\n",
              "          const element = document.querySelector('#df-e7bdd894-a2c9-41a8-b544-5ea2438e0a67');\n",
              "          const dataTable =\n",
              "            await google.colab.kernel.invokeFunction('convertToInteractive',\n",
              "                                                     [key], {});\n",
              "          if (!dataTable) return;\n",
              "\n",
              "          const docLinkHtml = 'Like what you see? Visit the ' +\n",
              "            '<a target=\"_blank\" href=https://colab.research.google.com/notebooks/data_table.ipynb>data table notebook</a>'\n",
              "            + ' to learn more about interactive tables.';\n",
              "          element.innerHTML = '';\n",
              "          dataTable['output_type'] = 'display_data';\n",
              "          await google.colab.output.renderOutput(dataTable, element);\n",
              "          const docLink = document.createElement('div');\n",
              "          docLink.innerHTML = docLinkHtml;\n",
              "          element.appendChild(docLink);\n",
              "        }\n",
              "      </script>\n",
              "    </div>\n",
              "  </div>\n",
              "  "
            ]
          },
          "metadata": {},
          "execution_count": 6
        }
      ]
    },
    {
      "cell_type": "markdown",
      "source": [
        "There is no significant outliers in dataset."
      ],
      "metadata": {
        "id": "X8H34CYieDa2"
      }
    },
    {
      "cell_type": "markdown",
      "metadata": {
        "id": "sLT4FEhRfqct"
      },
      "source": [
        "## 2. Data Preparation"
      ]
    },
    {
      "cell_type": "markdown",
      "metadata": {
        "id": "IrRvEG_S0bT4"
      },
      "source": [
        "**[2.1]** Create a copy of the dataframe and remove duplicated rows"
      ]
    },
    {
      "cell_type": "code",
      "metadata": {
        "id": "Bp9-uS7M0bZM"
      },
      "source": [
        "df_cleaned = df.copy()\n",
        "df_cleaned.drop_duplicates(inplace=True)"
      ],
      "execution_count": 7,
      "outputs": []
    },
    {
      "cell_type": "code",
      "source": [
        "print(df_cleaned['car_model'].unique())"
      ],
      "metadata": {
        "colab": {
          "base_uri": "https://localhost:8080/"
        },
        "id": "-KkMJiX8k-Mt",
        "outputId": "1536a20d-ca36-4b1d-b1ee-c16733a4f75e"
      },
      "execution_count": 8,
      "outputs": [
        {
          "output_type": "stream",
          "name": "stdout",
          "text": [
            "['model_1' 'model_2' 'model_3' 'model_5' 'model_6' 'model_4' 'model_7'\n",
            " 'model_8' 'model_9' 'model_10' 'model_11' 'model_13' 'model_12'\n",
            " 'model_14' 'model_15' 'model_16' 'model_17' 'model_18' 'model_19']\n"
          ]
        }
      ]
    },
    {
      "cell_type": "code",
      "source": [
        "print(df_cleaned['car_segment'].unique())"
      ],
      "metadata": {
        "colab": {
          "base_uri": "https://localhost:8080/"
        },
        "id": "VlgUcBQ8lMcf",
        "outputId": "ceb5dd3e-5a23-401f-8758-1f4e6e5cdec3"
      },
      "execution_count": 9,
      "outputs": [
        {
          "output_type": "stream",
          "name": "stdout",
          "text": [
            "['LCV' 'Small/Medium' 'Large/SUV' 'Other']\n"
          ]
        }
      ]
    },
    {
      "cell_type": "markdown",
      "source": [
        "**[2.2]** Looking at all records that are the same with model 19 except car segment."
      ],
      "metadata": {
        "id": "uu3ZgxnSCeO0"
      }
    },
    {
      "cell_type": "code",
      "source": [
        "a=df_cleaned[df_cleaned['car_model']=='model_19']\n",
        "b=a.drop('car_model', axis=1)\n",
        "merged_df = pd.merge(df_cleaned, b, on=['Target', 'age_band', 'gender', 'age_of_vehicle_years',\n",
        "       'sched_serv_warr', 'non_sched_serv_warr', 'sched_serv_paid',\n",
        "       'non_sched_serv_paid', 'total_paid_services', 'total_services',\n",
        "       'mth_since_last_serv', 'annualised_mileage', 'num_dealers_visited',\n",
        "       'num_serv_dealer_purchased'])\n",
        "merged_df"
      ],
      "metadata": {
        "colab": {
          "base_uri": "https://localhost:8080/"
        },
        "id": "XxVjxr1fq_eH",
        "outputId": "152fde0d-0486-474b-8d92-0ad495c3c0a9"
      },
      "execution_count": 10,
      "outputs": [
        {
          "output_type": "execute_result",
          "data": {
            "text/plain": [
              "     ID_x  Target age_band gender car_model car_segment_x  \\\n",
              "0    3529       0      NaN   Male   model_3     Large/SUV   \n",
              "1   81547       0      NaN   Male   model_5     Large/SUV   \n",
              "2  100546       0      NaN   Male  model_19         Other   \n",
              "3   30920       0      NaN   Male  model_19         Other   \n",
              "4   68275       0      NaN   Male   model_5     Large/SUV   \n",
              "5   92955       0      NaN   Male   model_1           LCV   \n",
              "\n",
              "   age_of_vehicle_years  sched_serv_warr  non_sched_serv_warr  \\\n",
              "0                     9                1                    1   \n",
              "1                     9                1                    1   \n",
              "2                     9                1                    1   \n",
              "3                     9                1                    1   \n",
              "4                     9                1                    1   \n",
              "5                     9                1                    1   \n",
              "\n",
              "   sched_serv_paid  non_sched_serv_paid  total_paid_services  total_services  \\\n",
              "0                1                    3                    2               1   \n",
              "1                1                    3                    2               1   \n",
              "2                1                    3                    2               1   \n",
              "3                3                    1                    2               1   \n",
              "4                3                    1                    2               1   \n",
              "5                3                    1                    2               1   \n",
              "\n",
              "   mth_since_last_serv  annualised_mileage  num_dealers_visited  \\\n",
              "0                    1                   1                    1   \n",
              "1                    1                   1                    1   \n",
              "2                    1                   1                    1   \n",
              "3                    1                   1                    1   \n",
              "4                    1                   1                    1   \n",
              "5                    1                   1                    1   \n",
              "\n",
              "   num_serv_dealer_purchased    ID_y car_segment_y  \n",
              "0                          1  100546         Other  \n",
              "1                          1  100546         Other  \n",
              "2                          1  100546         Other  \n",
              "3                          1   30920         Other  \n",
              "4                          1   30920         Other  \n",
              "5                          1   30920         Other  "
            ],
            "text/html": [
              "\n",
              "  <div id=\"df-631bb425-0d7d-4a5c-8bf4-7f86058f9302\">\n",
              "    <div class=\"colab-df-container\">\n",
              "      <div>\n",
              "<style scoped>\n",
              "    .dataframe tbody tr th:only-of-type {\n",
              "        vertical-align: middle;\n",
              "    }\n",
              "\n",
              "    .dataframe tbody tr th {\n",
              "        vertical-align: top;\n",
              "    }\n",
              "\n",
              "    .dataframe thead th {\n",
              "        text-align: right;\n",
              "    }\n",
              "</style>\n",
              "<table border=\"1\" class=\"dataframe\">\n",
              "  <thead>\n",
              "    <tr style=\"text-align: right;\">\n",
              "      <th></th>\n",
              "      <th>ID_x</th>\n",
              "      <th>Target</th>\n",
              "      <th>age_band</th>\n",
              "      <th>gender</th>\n",
              "      <th>car_model</th>\n",
              "      <th>car_segment_x</th>\n",
              "      <th>age_of_vehicle_years</th>\n",
              "      <th>sched_serv_warr</th>\n",
              "      <th>non_sched_serv_warr</th>\n",
              "      <th>sched_serv_paid</th>\n",
              "      <th>non_sched_serv_paid</th>\n",
              "      <th>total_paid_services</th>\n",
              "      <th>total_services</th>\n",
              "      <th>mth_since_last_serv</th>\n",
              "      <th>annualised_mileage</th>\n",
              "      <th>num_dealers_visited</th>\n",
              "      <th>num_serv_dealer_purchased</th>\n",
              "      <th>ID_y</th>\n",
              "      <th>car_segment_y</th>\n",
              "    </tr>\n",
              "  </thead>\n",
              "  <tbody>\n",
              "    <tr>\n",
              "      <th>0</th>\n",
              "      <td>3529</td>\n",
              "      <td>0</td>\n",
              "      <td>NaN</td>\n",
              "      <td>Male</td>\n",
              "      <td>model_3</td>\n",
              "      <td>Large/SUV</td>\n",
              "      <td>9</td>\n",
              "      <td>1</td>\n",
              "      <td>1</td>\n",
              "      <td>1</td>\n",
              "      <td>3</td>\n",
              "      <td>2</td>\n",
              "      <td>1</td>\n",
              "      <td>1</td>\n",
              "      <td>1</td>\n",
              "      <td>1</td>\n",
              "      <td>1</td>\n",
              "      <td>100546</td>\n",
              "      <td>Other</td>\n",
              "    </tr>\n",
              "    <tr>\n",
              "      <th>1</th>\n",
              "      <td>81547</td>\n",
              "      <td>0</td>\n",
              "      <td>NaN</td>\n",
              "      <td>Male</td>\n",
              "      <td>model_5</td>\n",
              "      <td>Large/SUV</td>\n",
              "      <td>9</td>\n",
              "      <td>1</td>\n",
              "      <td>1</td>\n",
              "      <td>1</td>\n",
              "      <td>3</td>\n",
              "      <td>2</td>\n",
              "      <td>1</td>\n",
              "      <td>1</td>\n",
              "      <td>1</td>\n",
              "      <td>1</td>\n",
              "      <td>1</td>\n",
              "      <td>100546</td>\n",
              "      <td>Other</td>\n",
              "    </tr>\n",
              "    <tr>\n",
              "      <th>2</th>\n",
              "      <td>100546</td>\n",
              "      <td>0</td>\n",
              "      <td>NaN</td>\n",
              "      <td>Male</td>\n",
              "      <td>model_19</td>\n",
              "      <td>Other</td>\n",
              "      <td>9</td>\n",
              "      <td>1</td>\n",
              "      <td>1</td>\n",
              "      <td>1</td>\n",
              "      <td>3</td>\n",
              "      <td>2</td>\n",
              "      <td>1</td>\n",
              "      <td>1</td>\n",
              "      <td>1</td>\n",
              "      <td>1</td>\n",
              "      <td>1</td>\n",
              "      <td>100546</td>\n",
              "      <td>Other</td>\n",
              "    </tr>\n",
              "    <tr>\n",
              "      <th>3</th>\n",
              "      <td>30920</td>\n",
              "      <td>0</td>\n",
              "      <td>NaN</td>\n",
              "      <td>Male</td>\n",
              "      <td>model_19</td>\n",
              "      <td>Other</td>\n",
              "      <td>9</td>\n",
              "      <td>1</td>\n",
              "      <td>1</td>\n",
              "      <td>3</td>\n",
              "      <td>1</td>\n",
              "      <td>2</td>\n",
              "      <td>1</td>\n",
              "      <td>1</td>\n",
              "      <td>1</td>\n",
              "      <td>1</td>\n",
              "      <td>1</td>\n",
              "      <td>30920</td>\n",
              "      <td>Other</td>\n",
              "    </tr>\n",
              "    <tr>\n",
              "      <th>4</th>\n",
              "      <td>68275</td>\n",
              "      <td>0</td>\n",
              "      <td>NaN</td>\n",
              "      <td>Male</td>\n",
              "      <td>model_5</td>\n",
              "      <td>Large/SUV</td>\n",
              "      <td>9</td>\n",
              "      <td>1</td>\n",
              "      <td>1</td>\n",
              "      <td>3</td>\n",
              "      <td>1</td>\n",
              "      <td>2</td>\n",
              "      <td>1</td>\n",
              "      <td>1</td>\n",
              "      <td>1</td>\n",
              "      <td>1</td>\n",
              "      <td>1</td>\n",
              "      <td>30920</td>\n",
              "      <td>Other</td>\n",
              "    </tr>\n",
              "    <tr>\n",
              "      <th>5</th>\n",
              "      <td>92955</td>\n",
              "      <td>0</td>\n",
              "      <td>NaN</td>\n",
              "      <td>Male</td>\n",
              "      <td>model_1</td>\n",
              "      <td>LCV</td>\n",
              "      <td>9</td>\n",
              "      <td>1</td>\n",
              "      <td>1</td>\n",
              "      <td>3</td>\n",
              "      <td>1</td>\n",
              "      <td>2</td>\n",
              "      <td>1</td>\n",
              "      <td>1</td>\n",
              "      <td>1</td>\n",
              "      <td>1</td>\n",
              "      <td>1</td>\n",
              "      <td>30920</td>\n",
              "      <td>Other</td>\n",
              "    </tr>\n",
              "  </tbody>\n",
              "</table>\n",
              "</div>\n",
              "      <button class=\"colab-df-convert\" onclick=\"convertToInteractive('df-631bb425-0d7d-4a5c-8bf4-7f86058f9302')\"\n",
              "              title=\"Convert this dataframe to an interactive table.\"\n",
              "              style=\"display:none;\">\n",
              "        \n",
              "  <svg xmlns=\"http://www.w3.org/2000/svg\" height=\"24px\"viewBox=\"0 0 24 24\"\n",
              "       width=\"24px\">\n",
              "    <path d=\"M0 0h24v24H0V0z\" fill=\"none\"/>\n",
              "    <path d=\"M18.56 5.44l.94 2.06.94-2.06 2.06-.94-2.06-.94-.94-2.06-.94 2.06-2.06.94zm-11 1L8.5 8.5l.94-2.06 2.06-.94-2.06-.94L8.5 2.5l-.94 2.06-2.06.94zm10 10l.94 2.06.94-2.06 2.06-.94-2.06-.94-.94-2.06-.94 2.06-2.06.94z\"/><path d=\"M17.41 7.96l-1.37-1.37c-.4-.4-.92-.59-1.43-.59-.52 0-1.04.2-1.43.59L10.3 9.45l-7.72 7.72c-.78.78-.78 2.05 0 2.83L4 21.41c.39.39.9.59 1.41.59.51 0 1.02-.2 1.41-.59l7.78-7.78 2.81-2.81c.8-.78.8-2.07 0-2.86zM5.41 20L4 18.59l7.72-7.72 1.47 1.35L5.41 20z\"/>\n",
              "  </svg>\n",
              "      </button>\n",
              "      \n",
              "  <style>\n",
              "    .colab-df-container {\n",
              "      display:flex;\n",
              "      flex-wrap:wrap;\n",
              "      gap: 12px;\n",
              "    }\n",
              "\n",
              "    .colab-df-convert {\n",
              "      background-color: #E8F0FE;\n",
              "      border: none;\n",
              "      border-radius: 50%;\n",
              "      cursor: pointer;\n",
              "      display: none;\n",
              "      fill: #1967D2;\n",
              "      height: 32px;\n",
              "      padding: 0 0 0 0;\n",
              "      width: 32px;\n",
              "    }\n",
              "\n",
              "    .colab-df-convert:hover {\n",
              "      background-color: #E2EBFA;\n",
              "      box-shadow: 0px 1px 2px rgba(60, 64, 67, 0.3), 0px 1px 3px 1px rgba(60, 64, 67, 0.15);\n",
              "      fill: #174EA6;\n",
              "    }\n",
              "\n",
              "    [theme=dark] .colab-df-convert {\n",
              "      background-color: #3B4455;\n",
              "      fill: #D2E3FC;\n",
              "    }\n",
              "\n",
              "    [theme=dark] .colab-df-convert:hover {\n",
              "      background-color: #434B5C;\n",
              "      box-shadow: 0px 1px 3px 1px rgba(0, 0, 0, 0.15);\n",
              "      filter: drop-shadow(0px 1px 2px rgba(0, 0, 0, 0.3));\n",
              "      fill: #FFFFFF;\n",
              "    }\n",
              "  </style>\n",
              "\n",
              "      <script>\n",
              "        const buttonEl =\n",
              "          document.querySelector('#df-631bb425-0d7d-4a5c-8bf4-7f86058f9302 button.colab-df-convert');\n",
              "        buttonEl.style.display =\n",
              "          google.colab.kernel.accessAllowed ? 'block' : 'none';\n",
              "\n",
              "        async function convertToInteractive(key) {\n",
              "          const element = document.querySelector('#df-631bb425-0d7d-4a5c-8bf4-7f86058f9302');\n",
              "          const dataTable =\n",
              "            await google.colab.kernel.invokeFunction('convertToInteractive',\n",
              "                                                     [key], {});\n",
              "          if (!dataTable) return;\n",
              "\n",
              "          const docLinkHtml = 'Like what you see? Visit the ' +\n",
              "            '<a target=\"_blank\" href=https://colab.research.google.com/notebooks/data_table.ipynb>data table notebook</a>'\n",
              "            + ' to learn more about interactive tables.';\n",
              "          element.innerHTML = '';\n",
              "          dataTable['output_type'] = 'display_data';\n",
              "          await google.colab.output.renderOutput(dataTable, element);\n",
              "          const docLink = document.createElement('div');\n",
              "          docLink.innerHTML = docLinkHtml;\n",
              "          element.appendChild(docLink);\n",
              "        }\n",
              "      </script>\n",
              "    </div>\n",
              "  </div>\n",
              "  "
            ]
          },
          "metadata": {},
          "execution_count": 10
        }
      ]
    },
    {
      "cell_type": "markdown",
      "source": [
        "Not only one model could match model 19, so it better to remove data with model 19"
      ],
      "metadata": {
        "id": "0FVD7-2bDFSC"
      }
    },
    {
      "cell_type": "markdown",
      "source": [
        "**[2.3]** Remove model_19"
      ],
      "metadata": {
        "id": "Po1HP0Caxjkc"
      }
    },
    {
      "cell_type": "code",
      "source": [
        "df_cleaned=df_cleaned[df_cleaned['car_model']!='model_19']"
      ],
      "metadata": {
        "id": "tU_kfE-cxjGn"
      },
      "execution_count": 11,
      "outputs": []
    },
    {
      "cell_type": "markdown",
      "source": [
        "**[2.4]** Drop non-numeric columns"
      ],
      "metadata": {
        "id": "L4dap4c8DnX5"
      }
    },
    {
      "cell_type": "code",
      "source": [
        "df_cleaned.drop(['age_band','gender','car_model','car_segment','ID'], axis=1,inplace=True)"
      ],
      "metadata": {
        "id": "J_u9IUX9EPWi"
      },
      "execution_count": 12,
      "outputs": []
    },
    {
      "cell_type": "markdown",
      "metadata": {
        "id": "Xn1np3VWulIf"
      },
      "source": [
        "**[2.5]** Remove all observation with missing values:"
      ]
    },
    {
      "cell_type": "code",
      "metadata": {
        "id": "rLjX-NPHD_H5"
      },
      "source": [
        "df_cleaned.dropna(how='any', inplace=True)"
      ],
      "execution_count": 13,
      "outputs": []
    },
    {
      "cell_type": "markdown",
      "source": [
        "## 3. Data Splitting"
      ],
      "metadata": {
        "id": "zQvGUYHjpdIc"
      }
    },
    {
      "cell_type": "code",
      "source": [
        "from sklearn.model_selection import train_test_split"
      ],
      "metadata": {
        "id": "hsx5ZcaPopla"
      },
      "execution_count": 14,
      "outputs": []
    },
    {
      "cell_type": "code",
      "source": [
        "y = df_cleaned.pop('Target')\n",
        "X = df_cleaned\n",
        "X_data, X_test, y_data, y_test = train_test_split(X, y, test_size=0.2, random_state=42, stratify=y)\n"
      ],
      "metadata": {
        "id": "QuApX5yvIL1p"
      },
      "execution_count": 15,
      "outputs": []
    },
    {
      "cell_type": "code",
      "source": [
        "X_train, X_val, y_train, y_val = train_test_split(X_data, y_data, test_size=0.2, random_state=42, stratify=y_data)"
      ],
      "metadata": {
        "id": "1see6IyoJrr1"
      },
      "execution_count": 16,
      "outputs": []
    },
    {
      "cell_type": "markdown",
      "source": [
        "\n",
        "## 4. Data scale"
      ],
      "metadata": {
        "id": "NNn8fs7Yo1DL"
      }
    },
    {
      "cell_type": "markdown",
      "source": [
        "**[4.1]** Import StandardScaler from Sklearn"
      ],
      "metadata": {
        "id": "KbsNp4DqG-6f"
      }
    },
    {
      "cell_type": "code",
      "source": [
        "from sklearn.preprocessing import StandardScaler"
      ],
      "metadata": {
        "id": "4XQsdPv5G_Co"
      },
      "execution_count": 17,
      "outputs": []
    },
    {
      "cell_type": "markdown",
      "source": [
        "**[4.2]** Instantiate a StandardScaler and save it into a variable called `scaler`"
      ],
      "metadata": {
        "id": "K7jFP_9TH2sa"
      }
    },
    {
      "cell_type": "code",
      "source": [
        "scaler = StandardScaler()"
      ],
      "metadata": {
        "id": "xH0o_GR2H22k"
      },
      "execution_count": 18,
      "outputs": []
    },
    {
      "cell_type": "markdown",
      "source": [
        "**[4.3]** Fit the scaler on the training set"
      ],
      "metadata": {
        "id": "A1ql4rj4IBZJ"
      }
    },
    {
      "cell_type": "code",
      "source": [
        "scaler.fit(X_train)"
      ],
      "metadata": {
        "colab": {
          "base_uri": "https://localhost:8080/",
          "height": 94
        },
        "id": "PfS_4AjcIBiz",
        "outputId": "a03172c8-abd0-405b-a71f-045164419a3c"
      },
      "execution_count": 19,
      "outputs": [
        {
          "output_type": "execute_result",
          "data": {
            "text/plain": [
              "StandardScaler()"
            ],
            "text/html": [
              "<style>#sk-container-id-1 {color: black;background-color: white;}#sk-container-id-1 pre{padding: 0;}#sk-container-id-1 div.sk-toggleable {background-color: white;}#sk-container-id-1 label.sk-toggleable__label {cursor: pointer;display: block;width: 100%;margin-bottom: 0;padding: 0.3em;box-sizing: border-box;text-align: center;}#sk-container-id-1 label.sk-toggleable__label-arrow:before {content: \"▸\";float: left;margin-right: 0.25em;color: #696969;}#sk-container-id-1 label.sk-toggleable__label-arrow:hover:before {color: black;}#sk-container-id-1 div.sk-estimator:hover label.sk-toggleable__label-arrow:before {color: black;}#sk-container-id-1 div.sk-toggleable__content {max-height: 0;max-width: 0;overflow: hidden;text-align: left;background-color: #f0f8ff;}#sk-container-id-1 div.sk-toggleable__content pre {margin: 0.2em;color: black;border-radius: 0.25em;background-color: #f0f8ff;}#sk-container-id-1 input.sk-toggleable__control:checked~div.sk-toggleable__content {max-height: 200px;max-width: 100%;overflow: auto;}#sk-container-id-1 input.sk-toggleable__control:checked~label.sk-toggleable__label-arrow:before {content: \"▾\";}#sk-container-id-1 div.sk-estimator input.sk-toggleable__control:checked~label.sk-toggleable__label {background-color: #d4ebff;}#sk-container-id-1 div.sk-label input.sk-toggleable__control:checked~label.sk-toggleable__label {background-color: #d4ebff;}#sk-container-id-1 input.sk-hidden--visually {border: 0;clip: rect(1px 1px 1px 1px);clip: rect(1px, 1px, 1px, 1px);height: 1px;margin: -1px;overflow: hidden;padding: 0;position: absolute;width: 1px;}#sk-container-id-1 div.sk-estimator {font-family: monospace;background-color: #f0f8ff;border: 1px dotted black;border-radius: 0.25em;box-sizing: border-box;margin-bottom: 0.5em;}#sk-container-id-1 div.sk-estimator:hover {background-color: #d4ebff;}#sk-container-id-1 div.sk-parallel-item::after {content: \"\";width: 100%;border-bottom: 1px solid gray;flex-grow: 1;}#sk-container-id-1 div.sk-label:hover label.sk-toggleable__label {background-color: #d4ebff;}#sk-container-id-1 div.sk-serial::before {content: \"\";position: absolute;border-left: 1px solid gray;box-sizing: border-box;top: 0;bottom: 0;left: 50%;z-index: 0;}#sk-container-id-1 div.sk-serial {display: flex;flex-direction: column;align-items: center;background-color: white;padding-right: 0.2em;padding-left: 0.2em;position: relative;}#sk-container-id-1 div.sk-item {position: relative;z-index: 1;}#sk-container-id-1 div.sk-parallel {display: flex;align-items: stretch;justify-content: center;background-color: white;position: relative;}#sk-container-id-1 div.sk-item::before, #sk-container-id-1 div.sk-parallel-item::before {content: \"\";position: absolute;border-left: 1px solid gray;box-sizing: border-box;top: 0;bottom: 0;left: 50%;z-index: -1;}#sk-container-id-1 div.sk-parallel-item {display: flex;flex-direction: column;z-index: 1;position: relative;background-color: white;}#sk-container-id-1 div.sk-parallel-item:first-child::after {align-self: flex-end;width: 50%;}#sk-container-id-1 div.sk-parallel-item:last-child::after {align-self: flex-start;width: 50%;}#sk-container-id-1 div.sk-parallel-item:only-child::after {width: 0;}#sk-container-id-1 div.sk-dashed-wrapped {border: 1px dashed gray;margin: 0 0.4em 0.5em 0.4em;box-sizing: border-box;padding-bottom: 0.4em;background-color: white;}#sk-container-id-1 div.sk-label label {font-family: monospace;font-weight: bold;display: inline-block;line-height: 1.2em;}#sk-container-id-1 div.sk-label-container {text-align: center;}#sk-container-id-1 div.sk-container {/* jupyter's `normalize.less` sets `[hidden] { display: none; }` but bootstrap.min.css set `[hidden] { display: none !important; }` so we also need the `!important` here to be able to override the default hidden behavior on the sphinx rendered scikit-learn.org. See: https://github.com/scikit-learn/scikit-learn/issues/21755 */display: inline-block !important;position: relative;}#sk-container-id-1 div.sk-text-repr-fallback {display: none;}</style><div id=\"sk-container-id-1\" class=\"sk-top-container\"><div class=\"sk-text-repr-fallback\"><pre>StandardScaler()</pre><b>In a Jupyter environment, please rerun this cell to show the HTML representation or trust the notebook. <br />On GitHub, the HTML representation is unable to render, please try loading this page with nbviewer.org.</b></div><div class=\"sk-container\" hidden><div class=\"sk-item\"><div class=\"sk-estimator sk-toggleable\"><input class=\"sk-toggleable__control sk-hidden--visually\" id=\"sk-estimator-id-1\" type=\"checkbox\" checked><label for=\"sk-estimator-id-1\" class=\"sk-toggleable__label sk-toggleable__label-arrow\">StandardScaler</label><div class=\"sk-toggleable__content\"><pre>StandardScaler()</pre></div></div></div></div></div>"
            ]
          },
          "metadata": {},
          "execution_count": 19
        }
      ]
    },
    {
      "cell_type": "markdown",
      "source": [
        "**[4.4]** Apply the scaler on the training set and display the result"
      ],
      "metadata": {
        "id": "wDzm1R_SIL9M"
      }
    },
    {
      "cell_type": "code",
      "source": [
        "scaler.transform(X_train)"
      ],
      "metadata": {
        "colab": {
          "base_uri": "https://localhost:8080/"
        },
        "id": "ie2gHrZYIMGS",
        "outputId": "fd52993a-1b1b-41fd-81d3-6e8abf3d713d"
      },
      "execution_count": 20,
      "outputs": [
        {
          "output_type": "execute_result",
          "data": {
            "text/plain": [
              "array([[-0.87685078, -0.50246422, -0.16368813, ..., -0.87674237,\n",
              "         0.17706504, -0.16840729],\n",
              "       [-0.17315998,  0.19060295,  0.53330489, ..., -0.87674237,\n",
              "        -0.86535826,  0.52953449],\n",
              "       [ 0.17868542, -1.54206497, -1.55767417, ..., -1.57691341,\n",
              "        -1.56030712, -1.56429084],\n",
              "       ...,\n",
              "       [ 1.58606703,  0.88367012,  1.57879442, ...,  0.87368525,\n",
              "         1.56696277,  1.57644715],\n",
              "       [ 0.88237623,  1.23020371,  0.18480838, ...,  0.87368525,\n",
              "         1.21948834,  0.52953449],\n",
              "       [ 1.58606703, -1.54206497, -1.55767417, ..., -1.57691341,\n",
              "        -1.56030712, -1.56429084]])"
            ]
          },
          "metadata": {},
          "execution_count": 20
        }
      ]
    },
    {
      "cell_type": "markdown",
      "source": [
        "**[4.5]** Replace the features values with the results of the scaler"
      ],
      "metadata": {
        "id": "7SEHTwlKIF0-"
      }
    },
    {
      "cell_type": "code",
      "source": [
        "X_train_scaled = scaler.transform(X_train)\n",
        "X_val_scaled = scaler.transform(X_val)\n",
        "X_test_scaled = scaler.transform(X_test)"
      ],
      "metadata": {
        "id": "tBv8Q_JiIF88"
      },
      "execution_count": 21,
      "outputs": []
    },
    {
      "cell_type": "markdown",
      "metadata": {
        "id": "kMRWpCx3ufxA"
      },
      "source": [
        "\n",
        "## 5. Assess Baseline Model"
      ]
    },
    {
      "cell_type": "markdown",
      "metadata": {
        "id": "EZ60Q2QHu9yC"
      },
      "source": [
        "**[5.1]** Find the mode of the target variable and save it into a variable called y_mode"
      ]
    },
    {
      "cell_type": "code",
      "metadata": {
        "id": "1Lx1X71bvntB"
      },
      "source": [
        "y_mode = y.mode()"
      ],
      "execution_count": 22,
      "outputs": []
    },
    {
      "cell_type": "markdown",
      "metadata": {
        "id": "6wh75y7Ww1qd"
      },
      "source": [
        "**[5.2]** Create a numpy array called y_base filled with this value of same length of y_train"
      ]
    },
    {
      "cell_type": "code",
      "metadata": {
        "id": "B5HLNw5Cw14u"
      },
      "source": [
        "y_base = np.full(y_train.shape, y_mode)"
      ],
      "execution_count": 23,
      "outputs": []
    },
    {
      "cell_type": "markdown",
      "metadata": {
        "id": "wngrRmKaxhte"
      },
      "source": [
        "**[5.3]** Import the f1 score from sklearn"
      ]
    },
    {
      "cell_type": "code",
      "metadata": {
        "id": "H-tSBvnAxh52"
      },
      "source": [
        "from sklearn.metrics import f1_score"
      ],
      "execution_count": 24,
      "outputs": []
    },
    {
      "cell_type": "markdown",
      "metadata": {
        "id": "wn4LS3VhyE-G"
      },
      "source": [
        "**[5.4]** Display the f1 score of this baseline model using the training set"
      ]
    },
    {
      "cell_type": "code",
      "source": [
        "f1_score(y_train, y_base)"
      ],
      "metadata": {
        "colab": {
          "base_uri": "https://localhost:8080/"
        },
        "id": "Ko9zi1olVfgl",
        "outputId": "6d0e6e2a-a02e-4d9e-86ca-dbca098083b7"
      },
      "execution_count": 25,
      "outputs": [
        {
          "output_type": "execute_result",
          "data": {
            "text/plain": [
              "0.0"
            ]
          },
          "metadata": {},
          "execution_count": 25
        }
      ]
    },
    {
      "cell_type": "markdown",
      "metadata": {
        "id": "TrAHjeLjOBQQ"
      },
      "source": [
        "## 6. Train a Logistic Regression Model"
      ]
    },
    {
      "cell_type": "markdown",
      "metadata": {
        "id": "MtDgx3605tQG"
      },
      "source": [
        "**[6.1]** Import the LogisticRegression class from sklearn"
      ]
    },
    {
      "cell_type": "code",
      "metadata": {
        "id": "HadBjMwn5v2S"
      },
      "source": [
        "from sklearn.linear_model import LogisticRegression"
      ],
      "execution_count": 26,
      "outputs": []
    },
    {
      "cell_type": "markdown",
      "metadata": {
        "id": "fb-ROClf50l1"
      },
      "source": [
        "**[6.2]** Instantiate our model default hyperparameter"
      ]
    },
    {
      "cell_type": "code",
      "metadata": {
        "id": "0vBZTd3r502q"
      },
      "source": [
        "log_reg = LogisticRegression()"
      ],
      "execution_count": 27,
      "outputs": []
    },
    {
      "cell_type": "markdown",
      "metadata": {
        "id": "3hOajGXS58kC"
      },
      "source": [
        "**[6.3]** Fit our model with the training data"
      ]
    },
    {
      "cell_type": "code",
      "metadata": {
        "id": "8EEFVInH58zb",
        "colab": {
          "base_uri": "https://localhost:8080/",
          "height": 94
        },
        "outputId": "c7cb4b45-509a-44c0-bf04-fc43a7038079"
      },
      "source": [
        "log_reg.fit(X_train, y_train)"
      ],
      "execution_count": 28,
      "outputs": [
        {
          "output_type": "execute_result",
          "data": {
            "text/plain": [
              "LogisticRegression()"
            ],
            "text/html": [
              "<style>#sk-container-id-2 {color: black;background-color: white;}#sk-container-id-2 pre{padding: 0;}#sk-container-id-2 div.sk-toggleable {background-color: white;}#sk-container-id-2 label.sk-toggleable__label {cursor: pointer;display: block;width: 100%;margin-bottom: 0;padding: 0.3em;box-sizing: border-box;text-align: center;}#sk-container-id-2 label.sk-toggleable__label-arrow:before {content: \"▸\";float: left;margin-right: 0.25em;color: #696969;}#sk-container-id-2 label.sk-toggleable__label-arrow:hover:before {color: black;}#sk-container-id-2 div.sk-estimator:hover label.sk-toggleable__label-arrow:before {color: black;}#sk-container-id-2 div.sk-toggleable__content {max-height: 0;max-width: 0;overflow: hidden;text-align: left;background-color: #f0f8ff;}#sk-container-id-2 div.sk-toggleable__content pre {margin: 0.2em;color: black;border-radius: 0.25em;background-color: #f0f8ff;}#sk-container-id-2 input.sk-toggleable__control:checked~div.sk-toggleable__content {max-height: 200px;max-width: 100%;overflow: auto;}#sk-container-id-2 input.sk-toggleable__control:checked~label.sk-toggleable__label-arrow:before {content: \"▾\";}#sk-container-id-2 div.sk-estimator input.sk-toggleable__control:checked~label.sk-toggleable__label {background-color: #d4ebff;}#sk-container-id-2 div.sk-label input.sk-toggleable__control:checked~label.sk-toggleable__label {background-color: #d4ebff;}#sk-container-id-2 input.sk-hidden--visually {border: 0;clip: rect(1px 1px 1px 1px);clip: rect(1px, 1px, 1px, 1px);height: 1px;margin: -1px;overflow: hidden;padding: 0;position: absolute;width: 1px;}#sk-container-id-2 div.sk-estimator {font-family: monospace;background-color: #f0f8ff;border: 1px dotted black;border-radius: 0.25em;box-sizing: border-box;margin-bottom: 0.5em;}#sk-container-id-2 div.sk-estimator:hover {background-color: #d4ebff;}#sk-container-id-2 div.sk-parallel-item::after {content: \"\";width: 100%;border-bottom: 1px solid gray;flex-grow: 1;}#sk-container-id-2 div.sk-label:hover label.sk-toggleable__label {background-color: #d4ebff;}#sk-container-id-2 div.sk-serial::before {content: \"\";position: absolute;border-left: 1px solid gray;box-sizing: border-box;top: 0;bottom: 0;left: 50%;z-index: 0;}#sk-container-id-2 div.sk-serial {display: flex;flex-direction: column;align-items: center;background-color: white;padding-right: 0.2em;padding-left: 0.2em;position: relative;}#sk-container-id-2 div.sk-item {position: relative;z-index: 1;}#sk-container-id-2 div.sk-parallel {display: flex;align-items: stretch;justify-content: center;background-color: white;position: relative;}#sk-container-id-2 div.sk-item::before, #sk-container-id-2 div.sk-parallel-item::before {content: \"\";position: absolute;border-left: 1px solid gray;box-sizing: border-box;top: 0;bottom: 0;left: 50%;z-index: -1;}#sk-container-id-2 div.sk-parallel-item {display: flex;flex-direction: column;z-index: 1;position: relative;background-color: white;}#sk-container-id-2 div.sk-parallel-item:first-child::after {align-self: flex-end;width: 50%;}#sk-container-id-2 div.sk-parallel-item:last-child::after {align-self: flex-start;width: 50%;}#sk-container-id-2 div.sk-parallel-item:only-child::after {width: 0;}#sk-container-id-2 div.sk-dashed-wrapped {border: 1px dashed gray;margin: 0 0.4em 0.5em 0.4em;box-sizing: border-box;padding-bottom: 0.4em;background-color: white;}#sk-container-id-2 div.sk-label label {font-family: monospace;font-weight: bold;display: inline-block;line-height: 1.2em;}#sk-container-id-2 div.sk-label-container {text-align: center;}#sk-container-id-2 div.sk-container {/* jupyter's `normalize.less` sets `[hidden] { display: none; }` but bootstrap.min.css set `[hidden] { display: none !important; }` so we also need the `!important` here to be able to override the default hidden behavior on the sphinx rendered scikit-learn.org. See: https://github.com/scikit-learn/scikit-learn/issues/21755 */display: inline-block !important;position: relative;}#sk-container-id-2 div.sk-text-repr-fallback {display: none;}</style><div id=\"sk-container-id-2\" class=\"sk-top-container\"><div class=\"sk-text-repr-fallback\"><pre>LogisticRegression()</pre><b>In a Jupyter environment, please rerun this cell to show the HTML representation or trust the notebook. <br />On GitHub, the HTML representation is unable to render, please try loading this page with nbviewer.org.</b></div><div class=\"sk-container\" hidden><div class=\"sk-item\"><div class=\"sk-estimator sk-toggleable\"><input class=\"sk-toggleable__control sk-hidden--visually\" id=\"sk-estimator-id-2\" type=\"checkbox\" checked><label for=\"sk-estimator-id-2\" class=\"sk-toggleable__label sk-toggleable__label-arrow\">LogisticRegression</label><div class=\"sk-toggleable__content\"><pre>LogisticRegression()</pre></div></div></div></div></div>"
            ]
          },
          "metadata": {},
          "execution_count": 28
        }
      ]
    },
    {
      "cell_type": "markdown",
      "metadata": {
        "id": "iyWUnv066DT5"
      },
      "source": [
        "**[6.4]** Print the f1 score of this model for the training set"
      ]
    },
    {
      "cell_type": "code",
      "metadata": {
        "id": "C2XeazkK6DcB",
        "colab": {
          "base_uri": "https://localhost:8080/"
        },
        "outputId": "26509962-7c48-4920-a041-0276275794a6"
      },
      "source": [
        "y_train_preds_log = log_reg.predict(X_train)\n",
        "f1_score(y_train, y_train_preds_log)"
      ],
      "execution_count": 29,
      "outputs": [
        {
          "output_type": "execute_result",
          "data": {
            "text/plain": [
              "0.33226837060702874"
            ]
          },
          "metadata": {},
          "execution_count": 29
        }
      ]
    },
    {
      "cell_type": "markdown",
      "source": [
        "**[6.5]** Print the f1 score of this model for the validation set"
      ],
      "metadata": {
        "id": "QWrR3rCuRht0"
      }
    },
    {
      "cell_type": "code",
      "source": [
        "y_val_preds_log = log_reg.predict(X_val)\n",
        "f1_score(y_val, y_val_preds_log)"
      ],
      "metadata": {
        "colab": {
          "base_uri": "https://localhost:8080/"
        },
        "id": "6l0Do1YfRh4I",
        "outputId": "64ba35d5-b0f4-4463-a8ff-18cb63113547"
      },
      "execution_count": 30,
      "outputs": [
        {
          "output_type": "execute_result",
          "data": {
            "text/plain": [
              "0.3223021582733813"
            ]
          },
          "metadata": {},
          "execution_count": 30
        }
      ]
    },
    {
      "cell_type": "markdown",
      "source": [
        "## 7. Train Logistic Regression Classifier with L1 and L2 Regularisation"
      ],
      "metadata": {
        "id": "sciVwi11RtXY"
      }
    },
    {
      "cell_type": "markdown",
      "source": [
        "**[7.1]** Instantiate a Logistic Regression with L1 and L2 regularisation"
      ],
      "metadata": {
        "id": "yZNjXDD0Rti0"
      }
    },
    {
      "cell_type": "code",
      "source": [
        "log_elastic_reg = LogisticRegression(penalty='elasticnet', l1_ratio=0.5, solver='saga')"
      ],
      "metadata": {
        "id": "RdDSo9omRt-W"
      },
      "execution_count": 31,
      "outputs": []
    },
    {
      "cell_type": "markdown",
      "source": [
        "**[7.2]** Fit our model with the training data"
      ],
      "metadata": {
        "id": "NR9dleXrR3te"
      }
    },
    {
      "cell_type": "code",
      "source": [
        "log_elastic_reg.fit(X_train, y_train)"
      ],
      "metadata": {
        "colab": {
          "base_uri": "https://localhost:8080/",
          "height": 94
        },
        "id": "P8vBjWFsR316",
        "outputId": "41982173-a52e-4818-8d7e-ed2e8558172a"
      },
      "execution_count": 32,
      "outputs": [
        {
          "output_type": "execute_result",
          "data": {
            "text/plain": [
              "LogisticRegression(l1_ratio=0.5, penalty='elasticnet', solver='saga')"
            ],
            "text/html": [
              "<style>#sk-container-id-3 {color: black;background-color: white;}#sk-container-id-3 pre{padding: 0;}#sk-container-id-3 div.sk-toggleable {background-color: white;}#sk-container-id-3 label.sk-toggleable__label {cursor: pointer;display: block;width: 100%;margin-bottom: 0;padding: 0.3em;box-sizing: border-box;text-align: center;}#sk-container-id-3 label.sk-toggleable__label-arrow:before {content: \"▸\";float: left;margin-right: 0.25em;color: #696969;}#sk-container-id-3 label.sk-toggleable__label-arrow:hover:before {color: black;}#sk-container-id-3 div.sk-estimator:hover label.sk-toggleable__label-arrow:before {color: black;}#sk-container-id-3 div.sk-toggleable__content {max-height: 0;max-width: 0;overflow: hidden;text-align: left;background-color: #f0f8ff;}#sk-container-id-3 div.sk-toggleable__content pre {margin: 0.2em;color: black;border-radius: 0.25em;background-color: #f0f8ff;}#sk-container-id-3 input.sk-toggleable__control:checked~div.sk-toggleable__content {max-height: 200px;max-width: 100%;overflow: auto;}#sk-container-id-3 input.sk-toggleable__control:checked~label.sk-toggleable__label-arrow:before {content: \"▾\";}#sk-container-id-3 div.sk-estimator input.sk-toggleable__control:checked~label.sk-toggleable__label {background-color: #d4ebff;}#sk-container-id-3 div.sk-label input.sk-toggleable__control:checked~label.sk-toggleable__label {background-color: #d4ebff;}#sk-container-id-3 input.sk-hidden--visually {border: 0;clip: rect(1px 1px 1px 1px);clip: rect(1px, 1px, 1px, 1px);height: 1px;margin: -1px;overflow: hidden;padding: 0;position: absolute;width: 1px;}#sk-container-id-3 div.sk-estimator {font-family: monospace;background-color: #f0f8ff;border: 1px dotted black;border-radius: 0.25em;box-sizing: border-box;margin-bottom: 0.5em;}#sk-container-id-3 div.sk-estimator:hover {background-color: #d4ebff;}#sk-container-id-3 div.sk-parallel-item::after {content: \"\";width: 100%;border-bottom: 1px solid gray;flex-grow: 1;}#sk-container-id-3 div.sk-label:hover label.sk-toggleable__label {background-color: #d4ebff;}#sk-container-id-3 div.sk-serial::before {content: \"\";position: absolute;border-left: 1px solid gray;box-sizing: border-box;top: 0;bottom: 0;left: 50%;z-index: 0;}#sk-container-id-3 div.sk-serial {display: flex;flex-direction: column;align-items: center;background-color: white;padding-right: 0.2em;padding-left: 0.2em;position: relative;}#sk-container-id-3 div.sk-item {position: relative;z-index: 1;}#sk-container-id-3 div.sk-parallel {display: flex;align-items: stretch;justify-content: center;background-color: white;position: relative;}#sk-container-id-3 div.sk-item::before, #sk-container-id-3 div.sk-parallel-item::before {content: \"\";position: absolute;border-left: 1px solid gray;box-sizing: border-box;top: 0;bottom: 0;left: 50%;z-index: -1;}#sk-container-id-3 div.sk-parallel-item {display: flex;flex-direction: column;z-index: 1;position: relative;background-color: white;}#sk-container-id-3 div.sk-parallel-item:first-child::after {align-self: flex-end;width: 50%;}#sk-container-id-3 div.sk-parallel-item:last-child::after {align-self: flex-start;width: 50%;}#sk-container-id-3 div.sk-parallel-item:only-child::after {width: 0;}#sk-container-id-3 div.sk-dashed-wrapped {border: 1px dashed gray;margin: 0 0.4em 0.5em 0.4em;box-sizing: border-box;padding-bottom: 0.4em;background-color: white;}#sk-container-id-3 div.sk-label label {font-family: monospace;font-weight: bold;display: inline-block;line-height: 1.2em;}#sk-container-id-3 div.sk-label-container {text-align: center;}#sk-container-id-3 div.sk-container {/* jupyter's `normalize.less` sets `[hidden] { display: none; }` but bootstrap.min.css set `[hidden] { display: none !important; }` so we also need the `!important` here to be able to override the default hidden behavior on the sphinx rendered scikit-learn.org. See: https://github.com/scikit-learn/scikit-learn/issues/21755 */display: inline-block !important;position: relative;}#sk-container-id-3 div.sk-text-repr-fallback {display: none;}</style><div id=\"sk-container-id-3\" class=\"sk-top-container\"><div class=\"sk-text-repr-fallback\"><pre>LogisticRegression(l1_ratio=0.5, penalty=&#x27;elasticnet&#x27;, solver=&#x27;saga&#x27;)</pre><b>In a Jupyter environment, please rerun this cell to show the HTML representation or trust the notebook. <br />On GitHub, the HTML representation is unable to render, please try loading this page with nbviewer.org.</b></div><div class=\"sk-container\" hidden><div class=\"sk-item\"><div class=\"sk-estimator sk-toggleable\"><input class=\"sk-toggleable__control sk-hidden--visually\" id=\"sk-estimator-id-3\" type=\"checkbox\" checked><label for=\"sk-estimator-id-3\" class=\"sk-toggleable__label sk-toggleable__label-arrow\">LogisticRegression</label><div class=\"sk-toggleable__content\"><pre>LogisticRegression(l1_ratio=0.5, penalty=&#x27;elasticnet&#x27;, solver=&#x27;saga&#x27;)</pre></div></div></div></div></div>"
            ]
          },
          "metadata": {},
          "execution_count": 32
        }
      ]
    },
    {
      "cell_type": "markdown",
      "source": [
        "**[7.3]** Display the f1 score for the training set"
      ],
      "metadata": {
        "id": "YYv4YWUTR40X"
      }
    },
    {
      "cell_type": "code",
      "source": [
        "y_train_preds_elastic = log_elastic_reg.predict(X_train)\n",
        "f1_score(y_train, y_train_preds_elastic)"
      ],
      "metadata": {
        "colab": {
          "base_uri": "https://localhost:8080/"
        },
        "id": "sGHfwGapR49j",
        "outputId": "4e3e2c7e-5a40-4066-90fa-aa6bac93e570"
      },
      "execution_count": 33,
      "outputs": [
        {
          "output_type": "execute_result",
          "data": {
            "text/plain": [
              "0.33226837060702874"
            ]
          },
          "metadata": {},
          "execution_count": 33
        }
      ]
    },
    {
      "cell_type": "markdown",
      "source": [
        "**[7.4]** Display the f1 score for the validation set"
      ],
      "metadata": {
        "id": "41_OSCGZR5wf"
      }
    },
    {
      "cell_type": "code",
      "source": [
        "y_val_preds_elastic = log_elastic_reg.predict(X_val)\n",
        "f1_score(y_val, y_val_preds_elastic)\n"
      ],
      "metadata": {
        "colab": {
          "base_uri": "https://localhost:8080/"
        },
        "id": "8GB-bt8eR54e",
        "outputId": "e29de6c8-3bec-4c0e-feee-97ffedd86e89"
      },
      "execution_count": 34,
      "outputs": [
        {
          "output_type": "execute_result",
          "data": {
            "text/plain": [
              "0.3223021582733813"
            ]
          },
          "metadata": {},
          "execution_count": 34
        }
      ]
    },
    {
      "cell_type": "markdown",
      "metadata": {
        "id": "Tj0aLqrtOKPc"
      },
      "source": [
        "## 8. Build a KNN model using euclidian distance"
      ]
    },
    {
      "cell_type": "markdown",
      "metadata": {
        "id": "A-Pfg8re63nd"
      },
      "source": [
        "**[8.1]** Import the KNeighborsClassifier class from sklearn"
      ]
    },
    {
      "cell_type": "code",
      "metadata": {
        "id": "iJ0B4YSN634I"
      },
      "source": [
        "from sklearn.neighbors import KNeighborsClassifier"
      ],
      "execution_count": 35,
      "outputs": []
    },
    {
      "cell_type": "markdown",
      "metadata": {
        "id": "FfcB0JIk6nfB"
      },
      "source": [
        "**[8.2]** Instantiate our model with metric:'euclidean'"
      ]
    },
    {
      "cell_type": "code",
      "metadata": {
        "id": "kdPCelyT6oEm"
      },
      "source": [
        "knn_euc_class = KNeighborsClassifier(metric='euclidean')"
      ],
      "execution_count": 36,
      "outputs": []
    },
    {
      "cell_type": "markdown",
      "metadata": {
        "id": "dCjOgoIq6vMq"
      },
      "source": [
        "**[8.3]** Fit our model with the training data"
      ]
    },
    {
      "cell_type": "code",
      "metadata": {
        "id": "-cztxV_W6vak",
        "colab": {
          "base_uri": "https://localhost:8080/",
          "height": 74
        },
        "outputId": "98f7e297-297d-4837-c8e0-52fa54ce004a"
      },
      "source": [
        "knn_euc_class.fit(X_train, y_train)"
      ],
      "execution_count": 37,
      "outputs": [
        {
          "output_type": "execute_result",
          "data": {
            "text/plain": [
              "KNeighborsClassifier(metric='euclidean')"
            ],
            "text/html": [
              "<style>#sk-container-id-4 {color: black;background-color: white;}#sk-container-id-4 pre{padding: 0;}#sk-container-id-4 div.sk-toggleable {background-color: white;}#sk-container-id-4 label.sk-toggleable__label {cursor: pointer;display: block;width: 100%;margin-bottom: 0;padding: 0.3em;box-sizing: border-box;text-align: center;}#sk-container-id-4 label.sk-toggleable__label-arrow:before {content: \"▸\";float: left;margin-right: 0.25em;color: #696969;}#sk-container-id-4 label.sk-toggleable__label-arrow:hover:before {color: black;}#sk-container-id-4 div.sk-estimator:hover label.sk-toggleable__label-arrow:before {color: black;}#sk-container-id-4 div.sk-toggleable__content {max-height: 0;max-width: 0;overflow: hidden;text-align: left;background-color: #f0f8ff;}#sk-container-id-4 div.sk-toggleable__content pre {margin: 0.2em;color: black;border-radius: 0.25em;background-color: #f0f8ff;}#sk-container-id-4 input.sk-toggleable__control:checked~div.sk-toggleable__content {max-height: 200px;max-width: 100%;overflow: auto;}#sk-container-id-4 input.sk-toggleable__control:checked~label.sk-toggleable__label-arrow:before {content: \"▾\";}#sk-container-id-4 div.sk-estimator input.sk-toggleable__control:checked~label.sk-toggleable__label {background-color: #d4ebff;}#sk-container-id-4 div.sk-label input.sk-toggleable__control:checked~label.sk-toggleable__label {background-color: #d4ebff;}#sk-container-id-4 input.sk-hidden--visually {border: 0;clip: rect(1px 1px 1px 1px);clip: rect(1px, 1px, 1px, 1px);height: 1px;margin: -1px;overflow: hidden;padding: 0;position: absolute;width: 1px;}#sk-container-id-4 div.sk-estimator {font-family: monospace;background-color: #f0f8ff;border: 1px dotted black;border-radius: 0.25em;box-sizing: border-box;margin-bottom: 0.5em;}#sk-container-id-4 div.sk-estimator:hover {background-color: #d4ebff;}#sk-container-id-4 div.sk-parallel-item::after {content: \"\";width: 100%;border-bottom: 1px solid gray;flex-grow: 1;}#sk-container-id-4 div.sk-label:hover label.sk-toggleable__label {background-color: #d4ebff;}#sk-container-id-4 div.sk-serial::before {content: \"\";position: absolute;border-left: 1px solid gray;box-sizing: border-box;top: 0;bottom: 0;left: 50%;z-index: 0;}#sk-container-id-4 div.sk-serial {display: flex;flex-direction: column;align-items: center;background-color: white;padding-right: 0.2em;padding-left: 0.2em;position: relative;}#sk-container-id-4 div.sk-item {position: relative;z-index: 1;}#sk-container-id-4 div.sk-parallel {display: flex;align-items: stretch;justify-content: center;background-color: white;position: relative;}#sk-container-id-4 div.sk-item::before, #sk-container-id-4 div.sk-parallel-item::before {content: \"\";position: absolute;border-left: 1px solid gray;box-sizing: border-box;top: 0;bottom: 0;left: 50%;z-index: -1;}#sk-container-id-4 div.sk-parallel-item {display: flex;flex-direction: column;z-index: 1;position: relative;background-color: white;}#sk-container-id-4 div.sk-parallel-item:first-child::after {align-self: flex-end;width: 50%;}#sk-container-id-4 div.sk-parallel-item:last-child::after {align-self: flex-start;width: 50%;}#sk-container-id-4 div.sk-parallel-item:only-child::after {width: 0;}#sk-container-id-4 div.sk-dashed-wrapped {border: 1px dashed gray;margin: 0 0.4em 0.5em 0.4em;box-sizing: border-box;padding-bottom: 0.4em;background-color: white;}#sk-container-id-4 div.sk-label label {font-family: monospace;font-weight: bold;display: inline-block;line-height: 1.2em;}#sk-container-id-4 div.sk-label-container {text-align: center;}#sk-container-id-4 div.sk-container {/* jupyter's `normalize.less` sets `[hidden] { display: none; }` but bootstrap.min.css set `[hidden] { display: none !important; }` so we also need the `!important` here to be able to override the default hidden behavior on the sphinx rendered scikit-learn.org. See: https://github.com/scikit-learn/scikit-learn/issues/21755 */display: inline-block !important;position: relative;}#sk-container-id-4 div.sk-text-repr-fallback {display: none;}</style><div id=\"sk-container-id-4\" class=\"sk-top-container\"><div class=\"sk-text-repr-fallback\"><pre>KNeighborsClassifier(metric=&#x27;euclidean&#x27;)</pre><b>In a Jupyter environment, please rerun this cell to show the HTML representation or trust the notebook. <br />On GitHub, the HTML representation is unable to render, please try loading this page with nbviewer.org.</b></div><div class=\"sk-container\" hidden><div class=\"sk-item\"><div class=\"sk-estimator sk-toggleable\"><input class=\"sk-toggleable__control sk-hidden--visually\" id=\"sk-estimator-id-4\" type=\"checkbox\" checked><label for=\"sk-estimator-id-4\" class=\"sk-toggleable__label sk-toggleable__label-arrow\">KNeighborsClassifier</label><div class=\"sk-toggleable__content\"><pre>KNeighborsClassifier(metric=&#x27;euclidean&#x27;)</pre></div></div></div></div></div>"
            ]
          },
          "metadata": {},
          "execution_count": 37
        }
      ]
    },
    {
      "cell_type": "markdown",
      "source": [
        "**[8.4]** Display the f1 score on the training set"
      ],
      "metadata": {
        "id": "MG9o7x6QS280"
      }
    },
    {
      "cell_type": "code",
      "source": [
        "y_train_preds_knn_euc = knn_euc_class.predict(X_train)\n",
        "f1_score(y_train, y_train_preds_knn_euc)"
      ],
      "metadata": {
        "colab": {
          "base_uri": "https://localhost:8080/"
        },
        "id": "1l25a_H7S3IM",
        "outputId": "236f2e61-096b-4274-fa88-9f3eacf1682d"
      },
      "execution_count": 38,
      "outputs": [
        {
          "output_type": "execute_result",
          "data": {
            "text/plain": [
              "0.8002054442732409"
            ]
          },
          "metadata": {},
          "execution_count": 38
        }
      ]
    },
    {
      "cell_type": "markdown",
      "source": [
        "**[8.5]** Display the f1 score on the validation set"
      ],
      "metadata": {
        "id": "DI4ywRNtS3h6"
      }
    },
    {
      "cell_type": "code",
      "source": [
        "y_val_preds_knn_euc = knn_euc_class.predict(X_val)\n",
        "f1_score(y_val, y_val_preds_knn_euc)"
      ],
      "metadata": {
        "colab": {
          "base_uri": "https://localhost:8080/"
        },
        "id": "CmAJU5GBS3uB",
        "outputId": "e8422f13-72da-4c57-db03-5b1a6022b6eb"
      },
      "execution_count": 39,
      "outputs": [
        {
          "output_type": "execute_result",
          "data": {
            "text/plain": [
              "0.721627408993576"
            ]
          },
          "metadata": {},
          "execution_count": 39
        }
      ]
    },
    {
      "cell_type": "markdown",
      "source": [
        "**[8.6]** Display the confusion matrix on the training and validation sets"
      ],
      "metadata": {
        "id": "g_TyOYpY7lkk"
      }
    },
    {
      "cell_type": "code",
      "source": [
        "from sklearn.metrics import confusion_matrix, ConfusionMatrixDisplay\n",
        "import matplotlib.pyplot as plt\n",
        "ConfusionMatrixDisplay.from_estimator(knn_euc_class, X_train, y_train, normalize='true')\n",
        "ConfusionMatrixDisplay.from_estimator(knn_euc_class, X_val, y_val, normalize='true')"
      ],
      "metadata": {
        "id": "AizhMCDj7efM",
        "colab": {
          "base_uri": "https://localhost:8080/",
          "height": 898
        },
        "outputId": "7b435d06-170f-4fd8-daf3-b7337e333b5e"
      },
      "execution_count": 40,
      "outputs": [
        {
          "output_type": "execute_result",
          "data": {
            "text/plain": [
              "<sklearn.metrics._plot.confusion_matrix.ConfusionMatrixDisplay at 0x7f4d08f25d50>"
            ]
          },
          "metadata": {},
          "execution_count": 40
        },
        {
          "output_type": "display_data",
          "data": {
            "text/plain": [
              "<Figure size 640x480 with 2 Axes>"
            ],
            "image/png": "[encoded data removed]"
          },
          "metadata": {}
        },
        {
          "output_type": "display_data",
          "data": {
            "text/plain": [
              "<Figure size 640x480 with 2 Axes>"
            ],
            "image/png": "[encoded data removed]"
          },
          "metadata": {}
        }
      ]
    },
    {
      "cell_type": "markdown",
      "metadata": {
        "id": "ZYBcwuA6hVQu"
      },
      "source": [
        "## 9. Train SVC with Default Hyperparameters"
      ]
    },
    {
      "cell_type": "markdown",
      "metadata": {
        "id": "0jLjjQrVhjkk"
      },
      "source": [
        "**[9.1]** Import SVC from sklearn.svm"
      ]
    },
    {
      "cell_type": "code",
      "metadata": {
        "id": "-Y2l-bnWhlIk"
      },
      "source": [
        "from sklearn.svm import SVC"
      ],
      "execution_count": 41,
      "outputs": []
    },
    {
      "cell_type": "markdown",
      "metadata": {
        "id": "l0iMA_Nzhm44"
      },
      "source": [
        "**[9.2]** Instantiate a SVC() model with default hyperparameters"
      ]
    },
    {
      "cell_type": "code",
      "metadata": {
        "id": "LCPFO-MdhnBC"
      },
      "source": [
        "svc_1 = SVC(random_state=42)"
      ],
      "execution_count": 42,
      "outputs": []
    },
    {
      "cell_type": "markdown",
      "metadata": {
        "id": "VkTvX0Fzhrmp"
      },
      "source": [
        "**[9.3]** Train the model on the training set and save the predictions from the training and validation sets"
      ]
    },
    {
      "cell_type": "code",
      "metadata": {
        "id": "XBmDWM6_hrxW"
      },
      "source": [
        "svc_1.fit(X_train_scaled, y_train)\n",
        "y_train_preds = svc_1.predict(X_train_scaled)\n",
        "y_val_preds = svc_1.predict(X_val_scaled)\n"
      ],
      "execution_count": 43,
      "outputs": []
    },
    {
      "cell_type": "markdown",
      "source": [
        "**[9.4]** Print the f1 score of the training and validation sets"
      ],
      "metadata": {
        "id": "J8WRdX6XBsPJ"
      }
    },
    {
      "cell_type": "code",
      "source": [
        "print(f1_score(y_train, y_train_preds))\n",
        "print(f1_score(y_val, y_val_preds))"
      ],
      "metadata": {
        "colab": {
          "base_uri": "https://localhost:8080/"
        },
        "id": "cK-q_LdUBsal",
        "outputId": "b8280499-1a4f-4588-8200-44cbbee90bfa"
      },
      "execution_count": 44,
      "outputs": [
        {
          "output_type": "stream",
          "name": "stdout",
          "text": [
            "0.7526371308016877\n",
            "0.7460484720758693\n"
          ]
        }
      ]
    },
    {
      "cell_type": "markdown",
      "metadata": {
        "id": "2KRKqp-FiTc1"
      },
      "source": [
        "**[9.5]** Import confusion_matrix, ConfusionMatrixDisplay from sklearn.metrics and matplotlib"
      ]
    },
    {
      "cell_type": "code",
      "metadata": {
        "id": "_hwcgdmqiTkT"
      },
      "source": [
        "from sklearn.metrics import confusion_matrix, ConfusionMatrixDisplay\n",
        "import matplotlib.pyplot as plt"
      ],
      "execution_count": 45,
      "outputs": []
    },
    {
      "cell_type": "markdown",
      "metadata": {
        "id": "YKaynWWfia2M"
      },
      "source": [
        "**[9.6]** Display the confusion matrix on the training and validation sets"
      ]
    },
    {
      "cell_type": "code",
      "metadata": {
        "id": "rN0sntd_iTm1",
        "colab": {
          "base_uri": "https://localhost:8080/",
          "height": 898
        },
        "outputId": "af4957df-6c2a-4a00-aeb0-db9f73454a99"
      },
      "source": [
        "ConfusionMatrixDisplay.from_estimator(svc_1, X_train_scaled, y_train, normalize='true')\n",
        "ConfusionMatrixDisplay.from_estimator(svc_1, X_val_scaled, y_val, normalize='true')"
      ],
      "execution_count": 46,
      "outputs": [
        {
          "output_type": "execute_result",
          "data": {
            "text/plain": [
              "<sklearn.metrics._plot.confusion_matrix.ConfusionMatrixDisplay at 0x7f4d08cf3f70>"
            ]
          },
          "metadata": {},
          "execution_count": 46
        },
        {
          "output_type": "display_data",
          "data": {
            "text/plain": [
              "<Figure size 640x480 with 2 Axes>"
            ],
            "image/png": "[encoded data removed]"
          },
          "metadata": {}
        },
        {
          "output_type": "display_data",
          "data": {
            "text/plain": [
              "<Figure size 640x480 with 2 Axes>"
            ],
            "image/png": "[encoded data removed]"
          },
          "metadata": {}
        }
      ]
    },
    {
      "cell_type": "markdown",
      "metadata": {
        "id": "m_iUTKpT6ZGw"
      },
      "source": [
        "## 10. Train a Decision Tree with Default Hyperparameters"
      ]
    },
    {
      "cell_type": "markdown",
      "metadata": {
        "id": "E8wdGmLzp7oV"
      },
      "source": [
        "**[10.1]** Import DecisionTreeClassifier from sklearn.tree"
      ]
    },
    {
      "cell_type": "code",
      "metadata": {
        "id": "rdwVMUaAp7wR"
      },
      "source": [
        "from sklearn.tree import DecisionTreeClassifier"
      ],
      "execution_count": 47,
      "outputs": []
    },
    {
      "cell_type": "markdown",
      "metadata": {
        "id": "y3BV1IPrqDzF"
      },
      "source": [
        "**[10.2]** Instantiate a DecisionTreeClassifier() model."
      ]
    },
    {
      "cell_type": "code",
      "metadata": {
        "id": "BF5LZh6tqD6w"
      },
      "source": [
        "tree_1 = DecisionTreeClassifier(random_state=42)"
      ],
      "execution_count": 48,
      "outputs": []
    },
    {
      "cell_type": "markdown",
      "metadata": {
        "id": "WBeHk83fqJ7B"
      },
      "source": [
        "**[10.3]** Train the model on the training set and save the predictions from the training and validation sets\n",
        "\n"
      ]
    },
    {
      "cell_type": "code",
      "metadata": {
        "id": "XWjBRzTSqKGa"
      },
      "source": [
        "tree_1.fit(X_train, y_train)\n",
        "y_train_preds = tree_1.predict(X_train)\n",
        "y_val_preds = tree_1.predict(X_val)"
      ],
      "execution_count": 49,
      "outputs": []
    },
    {
      "cell_type": "markdown",
      "source": [
        "**[10.5]** Print the f1 score of the training and validation sets"
      ],
      "metadata": {
        "id": "gUypa-5CFrXI"
      }
    },
    {
      "cell_type": "code",
      "source": [
        "print(f1_score(y_train, y_train_preds))\n",
        "print(f1_score(y_val, y_val_preds))"
      ],
      "metadata": {
        "colab": {
          "base_uri": "https://localhost:8080/"
        },
        "id": "3kPMdZl9Frfn",
        "outputId": "d77045f7-64ce-45b4-868b-87bbac120b59"
      },
      "execution_count": 50,
      "outputs": [
        {
          "output_type": "stream",
          "name": "stdout",
          "text": [
            "0.9997781229199023\n",
            "0.7875555555555556\n"
          ]
        }
      ]
    },
    {
      "cell_type": "markdown",
      "metadata": {
        "id": "cJdPw5K0qnn9"
      },
      "source": [
        "**[10.6]** Print the confusion matrices for the training and validation sets for this model:"
      ]
    },
    {
      "cell_type": "code",
      "metadata": {
        "id": "Olic4cipqnwt"
      },
      "source": [
        "from sklearn.metrics import confusion_matrix, ConfusionMatrixDisplay\n",
        "import matplotlib.pyplot as plt"
      ],
      "execution_count": 51,
      "outputs": []
    },
    {
      "cell_type": "code",
      "metadata": {
        "id": "3G_uXq4hqnuT",
        "colab": {
          "base_uri": "https://localhost:8080/",
          "height": 122
        },
        "outputId": "70996e1b-1e0c-4f7a-a2fc-74f57a61d7a7"
      },
      "source": [
        "ConfusionMatrixDisplay.from_estimator(tree_1, X_train, y_train, normalize='true')\n",
        "ConfusionMatrixDisplay.from_estimator(tree_1, X_val, y_val, normalize='true')"
      ],
      "execution_count": 52,
      "outputs": [
        {
          "output_type": "execute_result",
          "data": {
            "text/plain": [
              "<sklearn.metrics._plot.confusion_matrix.ConfusionMatrixDisplay at 0x7f4d08c13910>"
            ]
          },
          "metadata": {},
          "execution_count": 52
        },
        {
          "output_type": "display_data",
          "data": {
            "text/plain": [
              "<Figure size 640x480 with 2 Axes>"
            ],
            "image/png": "[encoded data removed]"
          },
          "metadata": {}
        },
        {
          "output_type": "display_data",
          "data": {
            "text/plain": [
              "<Figure size 640x480 with 2 Axes>"
            ],
            "image/png": "[encoded data removed]"
          },
          "metadata": {}
        }
      ]
    },
    {
      "cell_type": "markdown",
      "source": [
        "## 11. Assess model on Testing Set"
      ],
      "metadata": {
        "id": "xr4avc2gI9n6"
      }
    },
    {
      "cell_type": "markdown",
      "metadata": {
        "id": "vERrawAEtJA_"
      },
      "source": [
        "**[11.1]** Print the F1 scores of our best model on the testing set"
      ]
    },
    {
      "cell_type": "code",
      "metadata": {
        "id": "jOZvc8GGtePw",
        "colab": {
          "base_uri": "https://localhost:8080/"
        },
        "outputId": "0e93e5a0-a786-4100-8573-11c7c85c7cee"
      },
      "source": [
        "y_test_preds = svc_1.predict(X_test_scaled)\n",
        "print(f1_score(y_test, y_test_preds))"
      ],
      "execution_count": 53,
      "outputs": [
        {
          "output_type": "stream",
          "name": "stdout",
          "text": [
            "0.7463706233988044\n"
          ]
        }
      ]
    },
    {
      "cell_type": "markdown",
      "source": [
        "**[11.2]** Display the confusion matrix for our best model on all sets"
      ],
      "metadata": {
        "id": "JNi3_KOrhgtj"
      }
    },
    {
      "cell_type": "code",
      "source": [
        "ConfusionMatrixDisplay.from_estimator(svc_1, X_test_scaled, y_test, normalize='true')"
      ],
      "metadata": {
        "id": "fkcEse_khbwq",
        "colab": {
          "base_uri": "https://localhost:8080/",
          "height": 466
        },
        "outputId": "ca533a4e-5982-4635-e623-67bd9747a932"
      },
      "execution_count": 54,
      "outputs": [
        {
          "output_type": "execute_result",
          "data": {
            "text/plain": [
              "<sklearn.metrics._plot.confusion_matrix.ConfusionMatrixDisplay at 0x7f4d087ee3b0>"
            ]
          },
          "metadata": {},
          "execution_count": 54
        },
        {
          "output_type": "display_data",
          "data": {
            "text/plain": [
              "<Figure size 640x480 with 2 Axes>"
            ],
            "image/png": "[encoded data removed]"
          },
          "metadata": {}
        }
      ]
    }
  ]
}