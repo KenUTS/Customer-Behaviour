{
  "nbformat": 4,
  "nbformat_minor": 0,
  "metadata": {
    "colab": {
      "provenance": [],
      "collapsed_sections": [
        "3IwbDesTs-dr",
        "sLT4FEhRfqct",
        "zQvGUYHjpdIc",
        "NNn8fs7Yo1DL",
        "kMRWpCx3ufxA",
        "TrAHjeLjOBQQ",
        "sciVwi11RtXY",
        "m_iUTKpT6ZGw"
      ]
    },
    "kernelspec": {
      "name": "python3",
      "display_name": "Python 3"
    }
  },
  "cells": [
    {
      "cell_type": "markdown",
      "metadata": {
        "id": "uQ6wc2HE0pke"
      },
      "source": [
        "# **Experiments 4: Tuning hyperparamaters for decision tree model**\n",
        "\n"
      ]
    },
    {
      "cell_type": "markdown",
      "metadata": {
        "id": "2_OzElWylM3Y"
      },
      "source": [
        "## The steps are:\n",
        "1.   Load and explore dataset\n",
        "2.   Data preparation\n",
        "3.   Split data\n",
        "4.   Train Decision tree with default hyperparamaters\n",
        "5.   Reduce Overfitting with min_sample_split\n",
        "6.   Reduce Further Overfitting with max_depth\n",
        "7.  Assess model on Testing Set"
      ]
    },
    {
      "cell_type": "markdown",
      "metadata": {
        "id": "3IwbDesTs-dr"
      },
      "source": [
        "## 1. Load and explore dataset"
      ]
    },
    {
      "cell_type": "markdown",
      "metadata": {
        "id": "qMQmbGW_tKJ-"
      },
      "source": [
        "**[1.1]** Import packages"
      ]
    },
    {
      "cell_type": "code",
      "metadata": {
        "id": "2vRVBbfjtOhU"
      },
      "source": [
        "import pandas as pd\n",
        "import numpy as np"
      ],
      "execution_count": null,
      "outputs": []
    },
    {
      "cell_type": "markdown",
      "metadata": {
        "id": "DzT7km_-tTKZ"
      },
      "source": [
        "**[1.2]** Create a variable called file_url containing the CSV file and load the dataset into dataframe called df"
      ]
    },
    {
      "cell_type": "code",
      "metadata": {
        "id": "lF-hsEINtTkK"
      },
      "source": [
        "file_url = 'repurchase_training.csv'\n",
        "df = pd.read_csv(file_url)"
      ],
      "execution_count": null,
      "outputs": []
    },
    {
      "cell_type": "markdown",
      "metadata": {
        "id": "3_LcXROJtzuB"
      },
      "source": [
        "**[1.3]** Display the first 5 rows of df\n"
      ]
    },
    {
      "cell_type": "code",
      "metadata": {
        "id": "UQCI2nkSK_Cw",
        "colab": {
          "base_uri": "https://localhost:8080/",
          "height": 268
        },
        "outputId": "58351ba8-0000-4a63-bd4a-781a3d2096b0"
      },
      "source": [
        "df.head()"
      ],
      "execution_count": null,
      "outputs": [
        {
          "output_type": "execute_result",
          "data": {
            "text/plain": [
              "   ID  Target     age_band  gender car_model   car_segment  \\\n",
              "0   1       0  3. 35 to 44    Male   model_1           LCV   \n",
              "1   2       0          NaN     NaN   model_2  Small/Medium   \n",
              "2   3       0          NaN    Male   model_3     Large/SUV   \n",
              "3   5       0          NaN     NaN   model_3     Large/SUV   \n",
              "4   6       0          NaN  Female   model_2  Small/Medium   \n",
              "\n",
              "   age_of_vehicle_years  sched_serv_warr  non_sched_serv_warr  \\\n",
              "0                     9                2                   10   \n",
              "1                     6               10                    3   \n",
              "2                     9               10                    9   \n",
              "3                     5                8                    5   \n",
              "4                     8                9                    4   \n",
              "\n",
              "   sched_serv_paid  non_sched_serv_paid  total_paid_services  total_services  \\\n",
              "0                3                    7                    5               6   \n",
              "1               10                    4                    9              10   \n",
              "2               10                    9                   10              10   \n",
              "3                8                    4                    5               6   \n",
              "4               10                    7                    9               8   \n",
              "\n",
              "   mth_since_last_serv  annualised_mileage  num_dealers_visited  \\\n",
              "0                    9                   8                   10   \n",
              "1                    6                  10                    7   \n",
              "2                    7                  10                    6   \n",
              "3                    4                  10                    9   \n",
              "4                    5                   4                    4   \n",
              "\n",
              "   num_serv_dealer_purchased  \n",
              "0                          4  \n",
              "1                         10  \n",
              "2                         10  \n",
              "3                          7  \n",
              "4                          9  "
            ],
            "text/html": [
              "\n",
              "  <div id=\"df-279f351d-6557-4e06-b33d-a323042482c8\">\n",
              "    <div class=\"colab-df-container\">\n",
              "      <div>\n",
              "<style scoped>\n",
              "    .dataframe tbody tr th:only-of-type {\n",
              "        vertical-align: middle;\n",
              "    }\n",
              "\n",
              "    .dataframe tbody tr th {\n",
              "        vertical-align: top;\n",
              "    }\n",
              "\n",
              "    .dataframe thead th {\n",
              "        text-align: right;\n",
              "    }\n",
              "</style>\n",
              "<table border=\"1\" class=\"dataframe\">\n",
              "  <thead>\n",
              "    <tr style=\"text-align: right;\">\n",
              "      <th></th>\n",
              "      <th>ID</th>\n",
              "      <th>Target</th>\n",
              "      <th>age_band</th>\n",
              "      <th>gender</th>\n",
              "      <th>car_model</th>\n",
              "      <th>car_segment</th>\n",
              "      <th>age_of_vehicle_years</th>\n",
              "      <th>sched_serv_warr</th>\n",
              "      <th>non_sched_serv_warr</th>\n",
              "      <th>sched_serv_paid</th>\n",
              "      <th>non_sched_serv_paid</th>\n",
              "      <th>total_paid_services</th>\n",
              "      <th>total_services</th>\n",
              "      <th>mth_since_last_serv</th>\n",
              "      <th>annualised_mileage</th>\n",
              "      <th>num_dealers_visited</th>\n",
              "      <th>num_serv_dealer_purchased</th>\n",
              "    </tr>\n",
              "  </thead>\n",
              "  <tbody>\n",
              "    <tr>\n",
              "      <th>0</th>\n",
              "      <td>1</td>\n",
              "      <td>0</td>\n",
              "      <td>3. 35 to 44</td>\n",
              "      <td>Male</td>\n",
              "      <td>model_1</td>\n",
              "      <td>LCV</td>\n",
              "      <td>9</td>\n",
              "      <td>2</td>\n",
              "      <td>10</td>\n",
              "      <td>3</td>\n",
              "      <td>7</td>\n",
              "      <td>5</td>\n",
              "      <td>6</td>\n",
              "      <td>9</td>\n",
              "      <td>8</td>\n",
              "      <td>10</td>\n",
              "      <td>4</td>\n",
              "    </tr>\n",
              "    <tr>\n",
              "      <th>1</th>\n",
              "      <td>2</td>\n",
              "      <td>0</td>\n",
              "      <td>NaN</td>\n",
              "      <td>NaN</td>\n",
              "      <td>model_2</td>\n",
              "      <td>Small/Medium</td>\n",
              "      <td>6</td>\n",
              "      <td>10</td>\n",
              "      <td>3</td>\n",
              "      <td>10</td>\n",
              "      <td>4</td>\n",
              "      <td>9</td>\n",
              "      <td>10</td>\n",
              "      <td>6</td>\n",
              "      <td>10</td>\n",
              "      <td>7</td>\n",
              "      <td>10</td>\n",
              "    </tr>\n",
              "    <tr>\n",
              "      <th>2</th>\n",
              "      <td>3</td>\n",
              "      <td>0</td>\n",
              "      <td>NaN</td>\n",
              "      <td>Male</td>\n",
              "      <td>model_3</td>\n",
              "      <td>Large/SUV</td>\n",
              "      <td>9</td>\n",
              "      <td>10</td>\n",
              "      <td>9</td>\n",
              "      <td>10</td>\n",
              "      <td>9</td>\n",
              "      <td>10</td>\n",
              "      <td>10</td>\n",
              "      <td>7</td>\n",
              "      <td>10</td>\n",
              "      <td>6</td>\n",
              "      <td>10</td>\n",
              "    </tr>\n",
              "    <tr>\n",
              "      <th>3</th>\n",
              "      <td>5</td>\n",
              "      <td>0</td>\n",
              "      <td>NaN</td>\n",
              "      <td>NaN</td>\n",
              "      <td>model_3</td>\n",
              "      <td>Large/SUV</td>\n",
              "      <td>5</td>\n",
              "      <td>8</td>\n",
              "      <td>5</td>\n",
              "      <td>8</td>\n",
              "      <td>4</td>\n",
              "      <td>5</td>\n",
              "      <td>6</td>\n",
              "      <td>4</td>\n",
              "      <td>10</td>\n",
              "      <td>9</td>\n",
              "      <td>7</td>\n",
              "    </tr>\n",
              "    <tr>\n",
              "      <th>4</th>\n",
              "      <td>6</td>\n",
              "      <td>0</td>\n",
              "      <td>NaN</td>\n",
              "      <td>Female</td>\n",
              "      <td>model_2</td>\n",
              "      <td>Small/Medium</td>\n",
              "      <td>8</td>\n",
              "      <td>9</td>\n",
              "      <td>4</td>\n",
              "      <td>10</td>\n",
              "      <td>7</td>\n",
              "      <td>9</td>\n",
              "      <td>8</td>\n",
              "      <td>5</td>\n",
              "      <td>4</td>\n",
              "      <td>4</td>\n",
              "      <td>9</td>\n",
              "    </tr>\n",
              "  </tbody>\n",
              "</table>\n",
              "</div>\n",
              "      <button class=\"colab-df-convert\" onclick=\"convertToInteractive('df-279f351d-6557-4e06-b33d-a323042482c8')\"\n",
              "              title=\"Convert this dataframe to an interactive table.\"\n",
              "              style=\"display:none;\">\n",
              "        \n",
              "  <svg xmlns=\"http://www.w3.org/2000/svg\" height=\"24px\"viewBox=\"0 0 24 24\"\n",
              "       width=\"24px\">\n",
              "    <path d=\"M0 0h24v24H0V0z\" fill=\"none\"/>\n",
              "    <path d=\"M18.56 5.44l.94 2.06.94-2.06 2.06-.94-2.06-.94-.94-2.06-.94 2.06-2.06.94zm-11 1L8.5 8.5l.94-2.06 2.06-.94-2.06-.94L8.5 2.5l-.94 2.06-2.06.94zm10 10l.94 2.06.94-2.06 2.06-.94-2.06-.94-.94-2.06-.94 2.06-2.06.94z\"/><path d=\"M17.41 7.96l-1.37-1.37c-.4-.4-.92-.59-1.43-.59-.52 0-1.04.2-1.43.59L10.3 9.45l-7.72 7.72c-.78.78-.78 2.05 0 2.83L4 21.41c.39.39.9.59 1.41.59.51 0 1.02-.2 1.41-.59l7.78-7.78 2.81-2.81c.8-.78.8-2.07 0-2.86zM5.41 20L4 18.59l7.72-7.72 1.47 1.35L5.41 20z\"/>\n",
              "  </svg>\n",
              "      </button>\n",
              "      \n",
              "  <style>\n",
              "    .colab-df-container {\n",
              "      display:flex;\n",
              "      flex-wrap:wrap;\n",
              "      gap: 12px;\n",
              "    }\n",
              "\n",
              "    .colab-df-convert {\n",
              "      background-color: #E8F0FE;\n",
              "      border: none;\n",
              "      border-radius: 50%;\n",
              "      cursor: pointer;\n",
              "      display: none;\n",
              "      fill: #1967D2;\n",
              "      height: 32px;\n",
              "      padding: 0 0 0 0;\n",
              "      width: 32px;\n",
              "    }\n",
              "\n",
              "    .colab-df-convert:hover {\n",
              "      background-color: #E2EBFA;\n",
              "      box-shadow: 0px 1px 2px rgba(60, 64, 67, 0.3), 0px 1px 3px 1px rgba(60, 64, 67, 0.15);\n",
              "      fill: #174EA6;\n",
              "    }\n",
              "\n",
              "    [theme=dark] .colab-df-convert {\n",
              "      background-color: #3B4455;\n",
              "      fill: #D2E3FC;\n",
              "    }\n",
              "\n",
              "    [theme=dark] .colab-df-convert:hover {\n",
              "      background-color: #434B5C;\n",
              "      box-shadow: 0px 1px 3px 1px rgba(0, 0, 0, 0.15);\n",
              "      filter: drop-shadow(0px 1px 2px rgba(0, 0, 0, 0.3));\n",
              "      fill: #FFFFFF;\n",
              "    }\n",
              "  </style>\n",
              "\n",
              "      <script>\n",
              "        const buttonEl =\n",
              "          document.querySelector('#df-279f351d-6557-4e06-b33d-a323042482c8 button.colab-df-convert');\n",
              "        buttonEl.style.display =\n",
              "          google.colab.kernel.accessAllowed ? 'block' : 'none';\n",
              "\n",
              "        async function convertToInteractive(key) {\n",
              "          const element = document.querySelector('#df-279f351d-6557-4e06-b33d-a323042482c8');\n",
              "          const dataTable =\n",
              "            await google.colab.kernel.invokeFunction('convertToInteractive',\n",
              "                                                     [key], {});\n",
              "          if (!dataTable) return;\n",
              "\n",
              "          const docLinkHtml = 'Like what you see? Visit the ' +\n",
              "            '<a target=\"_blank\" href=https://colab.research.google.com/notebooks/data_table.ipynb>data table notebook</a>'\n",
              "            + ' to learn more about interactive tables.';\n",
              "          element.innerHTML = '';\n",
              "          dataTable['output_type'] = 'display_data';\n",
              "          await google.colab.output.renderOutput(dataTable, element);\n",
              "          const docLink = document.createElement('div');\n",
              "          docLink.innerHTML = docLinkHtml;\n",
              "          element.appendChild(docLink);\n",
              "        }\n",
              "      </script>\n",
              "    </div>\n",
              "  </div>\n",
              "  "
            ]
          },
          "metadata": {},
          "execution_count": 5
        }
      ]
    },
    {
      "cell_type": "markdown",
      "metadata": {
        "id": "8Ck-nyJyK_ef"
      },
      "source": [
        "**[1.4]** Display the dimensions of df"
      ]
    },
    {
      "cell_type": "code",
      "metadata": {
        "id": "bVXzXR2Bxfvi",
        "colab": {
          "base_uri": "https://localhost:8080/"
        },
        "outputId": "bde8fea7-6247-40e2-b771-c6ec8b98a094"
      },
      "source": [
        "df.shape"
      ],
      "execution_count": null,
      "outputs": [
        {
          "output_type": "execute_result",
          "data": {
            "text/plain": [
              "(131337, 17)"
            ]
          },
          "metadata": {},
          "execution_count": 6
        }
      ]
    },
    {
      "cell_type": "markdown",
      "metadata": {
        "id": "JNXwJBVPxws1"
      },
      "source": [
        "**[1.5]** Display the summary of df"
      ]
    },
    {
      "cell_type": "code",
      "metadata": {
        "id": "DSzdprjXzlnN",
        "colab": {
          "base_uri": "https://localhost:8080/"
        },
        "outputId": "f182a299-5c3c-4477-eb46-5708f713e0ac"
      },
      "source": [
        "df.info()"
      ],
      "execution_count": null,
      "outputs": [
        {
          "output_type": "stream",
          "name": "stdout",
          "text": [
            "<class 'pandas.core.frame.DataFrame'>\n",
            "RangeIndex: 131337 entries, 0 to 131336\n",
            "Data columns (total 17 columns):\n",
            " #   Column                     Non-Null Count   Dtype \n",
            "---  ------                     --------------   ----- \n",
            " 0   ID                         131337 non-null  int64 \n",
            " 1   Target                     131337 non-null  int64 \n",
            " 2   age_band                   18962 non-null   object\n",
            " 3   gender                     62029 non-null   object\n",
            " 4   car_model                  131337 non-null  object\n",
            " 5   car_segment                131337 non-null  object\n",
            " 6   age_of_vehicle_years       131337 non-null  int64 \n",
            " 7   sched_serv_warr            131337 non-null  int64 \n",
            " 8   non_sched_serv_warr        131337 non-null  int64 \n",
            " 9   sched_serv_paid            131337 non-null  int64 \n",
            " 10  non_sched_serv_paid        131337 non-null  int64 \n",
            " 11  total_paid_services        131337 non-null  int64 \n",
            " 12  total_services             131337 non-null  int64 \n",
            " 13  mth_since_last_serv        131337 non-null  int64 \n",
            " 14  annualised_mileage         131337 non-null  int64 \n",
            " 15  num_dealers_visited        131337 non-null  int64 \n",
            " 16  num_serv_dealer_purchased  131337 non-null  int64 \n",
            "dtypes: int64(13), object(4)\n",
            "memory usage: 17.0+ MB\n"
          ]
        }
      ]
    },
    {
      "cell_type": "markdown",
      "metadata": {
        "id": "1UJCNeUmziyR"
      },
      "source": [
        "Columns with missing data: **age_band and gender**"
      ]
    },
    {
      "cell_type": "markdown",
      "metadata": {
        "id": "0MhNgwrTvitS"
      },
      "source": [
        "**[1.6]** Display the descriptive statictics of df\n"
      ]
    },
    {
      "cell_type": "code",
      "metadata": {
        "id": "5uLDkH7D0xZa",
        "colab": {
          "base_uri": "https://localhost:8080/",
          "height": 361
        },
        "outputId": "adb5a004-1dd3-4be6-cac5-e8aed3c09700"
      },
      "source": [
        "df.describe()"
      ],
      "execution_count": null,
      "outputs": [
        {
          "output_type": "execute_result",
          "data": {
            "text/plain": [
              "                  ID         Target  age_of_vehicle_years  sched_serv_warr  \\\n",
              "count  131337.000000  131337.000000         131337.000000    131337.000000   \n",
              "mean    77097.384180       0.026809              5.493022         5.452500   \n",
              "std     44501.636704       0.161525              2.843299         2.884328   \n",
              "min         1.000000       0.000000              1.000000         1.000000   \n",
              "25%     38563.000000       0.000000              3.000000         3.000000   \n",
              "50%     77132.000000       0.000000              5.000000         5.000000   \n",
              "75%    115668.000000       0.000000              8.000000         8.000000   \n",
              "max    154139.000000       1.000000             10.000000        10.000000   \n",
              "\n",
              "       non_sched_serv_warr  sched_serv_paid  non_sched_serv_paid  \\\n",
              "count        131337.000000    131337.000000        131337.000000   \n",
              "mean              5.472517         5.452287             5.497050   \n",
              "std               2.870665         2.886528             2.878699   \n",
              "min               1.000000         1.000000             1.000000   \n",
              "25%               3.000000         3.000000             3.000000   \n",
              "50%               5.000000         5.000000             5.000000   \n",
              "75%               8.000000         8.000000             8.000000   \n",
              "max              10.000000        10.000000            10.000000   \n",
              "\n",
              "       total_paid_services  total_services  mth_since_last_serv  \\\n",
              "count        131337.000000   131337.000000        131337.000000   \n",
              "mean              5.481692        5.454967             5.469807   \n",
              "std               2.880408        2.875961             2.859756   \n",
              "min               1.000000        1.000000             1.000000   \n",
              "25%               3.000000        3.000000             3.000000   \n",
              "50%               5.000000        5.000000             5.000000   \n",
              "75%               8.000000        8.000000             8.000000   \n",
              "max              10.000000       10.000000            10.000000   \n",
              "\n",
              "       annualised_mileage  num_dealers_visited  num_serv_dealer_purchased  \n",
              "count       131337.000000        131337.000000              131337.000000  \n",
              "mean             5.502836             5.485438                   5.480778  \n",
              "std              2.854896             2.876772                   2.867524  \n",
              "min              1.000000             1.000000                   1.000000  \n",
              "25%              3.000000             3.000000                   3.000000  \n",
              "50%              5.000000             5.000000                   5.000000  \n",
              "75%              8.000000             8.000000                   8.000000  \n",
              "max             10.000000            10.000000                  10.000000  "
            ],
            "text/html": [
              "\n",
              "  <div id=\"df-6ad5e3a9-8e91-4977-9513-84dcb53811d4\">\n",
              "    <div class=\"colab-df-container\">\n",
              "      <div>\n",
              "<style scoped>\n",
              "    .dataframe tbody tr th:only-of-type {\n",
              "        vertical-align: middle;\n",
              "    }\n",
              "\n",
              "    .dataframe tbody tr th {\n",
              "        vertical-align: top;\n",
              "    }\n",
              "\n",
              "    .dataframe thead th {\n",
              "        text-align: right;\n",
              "    }\n",
              "</style>\n",
              "<table border=\"1\" class=\"dataframe\">\n",
              "  <thead>\n",
              "    <tr style=\"text-align: right;\">\n",
              "      <th></th>\n",
              "      <th>ID</th>\n",
              "      <th>Target</th>\n",
              "      <th>age_of_vehicle_years</th>\n",
              "      <th>sched_serv_warr</th>\n",
              "      <th>non_sched_serv_warr</th>\n",
              "      <th>sched_serv_paid</th>\n",
              "      <th>non_sched_serv_paid</th>\n",
              "      <th>total_paid_services</th>\n",
              "      <th>total_services</th>\n",
              "      <th>mth_since_last_serv</th>\n",
              "      <th>annualised_mileage</th>\n",
              "      <th>num_dealers_visited</th>\n",
              "      <th>num_serv_dealer_purchased</th>\n",
              "    </tr>\n",
              "  </thead>\n",
              "  <tbody>\n",
              "    <tr>\n",
              "      <th>count</th>\n",
              "      <td>131337.000000</td>\n",
              "      <td>131337.000000</td>\n",
              "      <td>131337.000000</td>\n",
              "      <td>131337.000000</td>\n",
              "      <td>131337.000000</td>\n",
              "      <td>131337.000000</td>\n",
              "      <td>131337.000000</td>\n",
              "      <td>131337.000000</td>\n",
              "      <td>131337.000000</td>\n",
              "      <td>131337.000000</td>\n",
              "      <td>131337.000000</td>\n",
              "      <td>131337.000000</td>\n",
              "      <td>131337.000000</td>\n",
              "    </tr>\n",
              "    <tr>\n",
              "      <th>mean</th>\n",
              "      <td>77097.384180</td>\n",
              "      <td>0.026809</td>\n",
              "      <td>5.493022</td>\n",
              "      <td>5.452500</td>\n",
              "      <td>5.472517</td>\n",
              "      <td>5.452287</td>\n",
              "      <td>5.497050</td>\n",
              "      <td>5.481692</td>\n",
              "      <td>5.454967</td>\n",
              "      <td>5.469807</td>\n",
              "      <td>5.502836</td>\n",
              "      <td>5.485438</td>\n",
              "      <td>5.480778</td>\n",
              "    </tr>\n",
              "    <tr>\n",
              "      <th>std</th>\n",
              "      <td>44501.636704</td>\n",
              "      <td>0.161525</td>\n",
              "      <td>2.843299</td>\n",
              "      <td>2.884328</td>\n",
              "      <td>2.870665</td>\n",
              "      <td>2.886528</td>\n",
              "      <td>2.878699</td>\n",
              "      <td>2.880408</td>\n",
              "      <td>2.875961</td>\n",
              "      <td>2.859756</td>\n",
              "      <td>2.854896</td>\n",
              "      <td>2.876772</td>\n",
              "      <td>2.867524</td>\n",
              "    </tr>\n",
              "    <tr>\n",
              "      <th>min</th>\n",
              "      <td>1.000000</td>\n",
              "      <td>0.000000</td>\n",
              "      <td>1.000000</td>\n",
              "      <td>1.000000</td>\n",
              "      <td>1.000000</td>\n",
              "      <td>1.000000</td>\n",
              "      <td>1.000000</td>\n",
              "      <td>1.000000</td>\n",
              "      <td>1.000000</td>\n",
              "      <td>1.000000</td>\n",
              "      <td>1.000000</td>\n",
              "      <td>1.000000</td>\n",
              "      <td>1.000000</td>\n",
              "    </tr>\n",
              "    <tr>\n",
              "      <th>25%</th>\n",
              "      <td>38563.000000</td>\n",
              "      <td>0.000000</td>\n",
              "      <td>3.000000</td>\n",
              "      <td>3.000000</td>\n",
              "      <td>3.000000</td>\n",
              "      <td>3.000000</td>\n",
              "      <td>3.000000</td>\n",
              "      <td>3.000000</td>\n",
              "      <td>3.000000</td>\n",
              "      <td>3.000000</td>\n",
              "      <td>3.000000</td>\n",
              "      <td>3.000000</td>\n",
              "      <td>3.000000</td>\n",
              "    </tr>\n",
              "    <tr>\n",
              "      <th>50%</th>\n",
              "      <td>77132.000000</td>\n",
              "      <td>0.000000</td>\n",
              "      <td>5.000000</td>\n",
              "      <td>5.000000</td>\n",
              "      <td>5.000000</td>\n",
              "      <td>5.000000</td>\n",
              "      <td>5.000000</td>\n",
              "      <td>5.000000</td>\n",
              "      <td>5.000000</td>\n",
              "      <td>5.000000</td>\n",
              "      <td>5.000000</td>\n",
              "      <td>5.000000</td>\n",
              "      <td>5.000000</td>\n",
              "    </tr>\n",
              "    <tr>\n",
              "      <th>75%</th>\n",
              "      <td>115668.000000</td>\n",
              "      <td>0.000000</td>\n",
              "      <td>8.000000</td>\n",
              "      <td>8.000000</td>\n",
              "      <td>8.000000</td>\n",
              "      <td>8.000000</td>\n",
              "      <td>8.000000</td>\n",
              "      <td>8.000000</td>\n",
              "      <td>8.000000</td>\n",
              "      <td>8.000000</td>\n",
              "      <td>8.000000</td>\n",
              "      <td>8.000000</td>\n",
              "      <td>8.000000</td>\n",
              "    </tr>\n",
              "    <tr>\n",
              "      <th>max</th>\n",
              "      <td>154139.000000</td>\n",
              "      <td>1.000000</td>\n",
              "      <td>10.000000</td>\n",
              "      <td>10.000000</td>\n",
              "      <td>10.000000</td>\n",
              "      <td>10.000000</td>\n",
              "      <td>10.000000</td>\n",
              "      <td>10.000000</td>\n",
              "      <td>10.000000</td>\n",
              "      <td>10.000000</td>\n",
              "      <td>10.000000</td>\n",
              "      <td>10.000000</td>\n",
              "      <td>10.000000</td>\n",
              "    </tr>\n",
              "  </tbody>\n",
              "</table>\n",
              "</div>\n",
              "      <button class=\"colab-df-convert\" onclick=\"convertToInteractive('df-6ad5e3a9-8e91-4977-9513-84dcb53811d4')\"\n",
              "              title=\"Convert this dataframe to an interactive table.\"\n",
              "              style=\"display:none;\">\n",
              "        \n",
              "  <svg xmlns=\"http://www.w3.org/2000/svg\" height=\"24px\"viewBox=\"0 0 24 24\"\n",
              "       width=\"24px\">\n",
              "    <path d=\"M0 0h24v24H0V0z\" fill=\"none\"/>\n",
              "    <path d=\"M18.56 5.44l.94 2.06.94-2.06 2.06-.94-2.06-.94-.94-2.06-.94 2.06-2.06.94zm-11 1L8.5 8.5l.94-2.06 2.06-.94-2.06-.94L8.5 2.5l-.94 2.06-2.06.94zm10 10l.94 2.06.94-2.06 2.06-.94-2.06-.94-.94-2.06-.94 2.06-2.06.94z\"/><path d=\"M17.41 7.96l-1.37-1.37c-.4-.4-.92-.59-1.43-.59-.52 0-1.04.2-1.43.59L10.3 9.45l-7.72 7.72c-.78.78-.78 2.05 0 2.83L4 21.41c.39.39.9.59 1.41.59.51 0 1.02-.2 1.41-.59l7.78-7.78 2.81-2.81c.8-.78.8-2.07 0-2.86zM5.41 20L4 18.59l7.72-7.72 1.47 1.35L5.41 20z\"/>\n",
              "  </svg>\n",
              "      </button>\n",
              "      \n",
              "  <style>\n",
              "    .colab-df-container {\n",
              "      display:flex;\n",
              "      flex-wrap:wrap;\n",
              "      gap: 12px;\n",
              "    }\n",
              "\n",
              "    .colab-df-convert {\n",
              "      background-color: #E8F0FE;\n",
              "      border: none;\n",
              "      border-radius: 50%;\n",
              "      cursor: pointer;\n",
              "      display: none;\n",
              "      fill: #1967D2;\n",
              "      height: 32px;\n",
              "      padding: 0 0 0 0;\n",
              "      width: 32px;\n",
              "    }\n",
              "\n",
              "    .colab-df-convert:hover {\n",
              "      background-color: #E2EBFA;\n",
              "      box-shadow: 0px 1px 2px rgba(60, 64, 67, 0.3), 0px 1px 3px 1px rgba(60, 64, 67, 0.15);\n",
              "      fill: #174EA6;\n",
              "    }\n",
              "\n",
              "    [theme=dark] .colab-df-convert {\n",
              "      background-color: #3B4455;\n",
              "      fill: #D2E3FC;\n",
              "    }\n",
              "\n",
              "    [theme=dark] .colab-df-convert:hover {\n",
              "      background-color: #434B5C;\n",
              "      box-shadow: 0px 1px 3px 1px rgba(0, 0, 0, 0.15);\n",
              "      filter: drop-shadow(0px 1px 2px rgba(0, 0, 0, 0.3));\n",
              "      fill: #FFFFFF;\n",
              "    }\n",
              "  </style>\n",
              "\n",
              "      <script>\n",
              "        const buttonEl =\n",
              "          document.querySelector('#df-6ad5e3a9-8e91-4977-9513-84dcb53811d4 button.colab-df-convert');\n",
              "        buttonEl.style.display =\n",
              "          google.colab.kernel.accessAllowed ? 'block' : 'none';\n",
              "\n",
              "        async function convertToInteractive(key) {\n",
              "          const element = document.querySelector('#df-6ad5e3a9-8e91-4977-9513-84dcb53811d4');\n",
              "          const dataTable =\n",
              "            await google.colab.kernel.invokeFunction('convertToInteractive',\n",
              "                                                     [key], {});\n",
              "          if (!dataTable) return;\n",
              "\n",
              "          const docLinkHtml = 'Like what you see? Visit the ' +\n",
              "            '<a target=\"_blank\" href=https://colab.research.google.com/notebooks/data_table.ipynb>data table notebook</a>'\n",
              "            + ' to learn more about interactive tables.';\n",
              "          element.innerHTML = '';\n",
              "          dataTable['output_type'] = 'display_data';\n",
              "          await google.colab.output.renderOutput(dataTable, element);\n",
              "          const docLink = document.createElement('div');\n",
              "          docLink.innerHTML = docLinkHtml;\n",
              "          element.appendChild(docLink);\n",
              "        }\n",
              "      </script>\n",
              "    </div>\n",
              "  </div>\n",
              "  "
            ]
          },
          "metadata": {},
          "execution_count": 8
        }
      ]
    },
    {
      "cell_type": "markdown",
      "source": [
        "There is no significant outliers in dataset."
      ],
      "metadata": {
        "id": "X8H34CYieDa2"
      }
    },
    {
      "cell_type": "markdown",
      "metadata": {
        "id": "sLT4FEhRfqct"
      },
      "source": [
        "## 2. Data Preparation"
      ]
    },
    {
      "cell_type": "markdown",
      "metadata": {
        "id": "IrRvEG_S0bT4"
      },
      "source": [
        "**[2.1]** Create a copy of the dataframe and remove duplicated rows"
      ]
    },
    {
      "cell_type": "code",
      "metadata": {
        "id": "Bp9-uS7M0bZM"
      },
      "source": [
        "df_cleaned = df.copy()\n",
        "df_cleaned.drop_duplicates(inplace=True)"
      ],
      "execution_count": null,
      "outputs": []
    },
    {
      "cell_type": "code",
      "source": [
        "print(df_cleaned['car_model'].unique())"
      ],
      "metadata": {
        "colab": {
          "base_uri": "https://localhost:8080/"
        },
        "id": "-KkMJiX8k-Mt",
        "outputId": "ee0bde89-c152-46f8-921a-c4eb16edd9ba"
      },
      "execution_count": null,
      "outputs": [
        {
          "output_type": "stream",
          "name": "stdout",
          "text": [
            "['model_1' 'model_2' 'model_3' 'model_5' 'model_6' 'model_4' 'model_7'\n",
            " 'model_8' 'model_9' 'model_10' 'model_11' 'model_13' 'model_12'\n",
            " 'model_14' 'model_15' 'model_16' 'model_17' 'model_18' 'model_19']\n"
          ]
        }
      ]
    },
    {
      "cell_type": "code",
      "source": [
        "print(df_cleaned['car_segment'].unique())"
      ],
      "metadata": {
        "colab": {
          "base_uri": "https://localhost:8080/"
        },
        "id": "VlgUcBQ8lMcf",
        "outputId": "b72bfa86-9a0d-4518-c99c-6d8dddcad8b2"
      },
      "execution_count": null,
      "outputs": [
        {
          "output_type": "stream",
          "name": "stdout",
          "text": [
            "['LCV' 'Small/Medium' 'Large/SUV' 'Other']\n"
          ]
        }
      ]
    },
    {
      "cell_type": "markdown",
      "source": [
        "**[2.2]** Looking at all records that are the same with model 19 except car segment."
      ],
      "metadata": {
        "id": "uu3ZgxnSCeO0"
      }
    },
    {
      "cell_type": "code",
      "source": [
        "a=df_cleaned[df_cleaned['car_model']=='model_19']\n",
        "b=a.drop('car_model', axis=1)\n",
        "merged_df = pd.merge(df_cleaned, b, on=['Target', 'age_band', 'gender', 'age_of_vehicle_years',\n",
        "       'sched_serv_warr', 'non_sched_serv_warr', 'sched_serv_paid',\n",
        "       'non_sched_serv_paid', 'total_paid_services', 'total_services',\n",
        "       'mth_since_last_serv', 'annualised_mileage', 'num_dealers_visited',\n",
        "       'num_serv_dealer_purchased'])\n",
        "merged_df"
      ],
      "metadata": {
        "colab": {
          "base_uri": "https://localhost:8080/",
          "height": 299
        },
        "id": "XxVjxr1fq_eH",
        "outputId": "ee743a04-3b6e-40a7-b526-ceaa96d37224"
      },
      "execution_count": null,
      "outputs": [
        {
          "output_type": "execute_result",
          "data": {
            "text/plain": [
              "     ID_x  Target age_band gender car_model car_segment_x  \\\n",
              "0    3529       0      NaN   Male   model_3     Large/SUV   \n",
              "1   81547       0      NaN   Male   model_5     Large/SUV   \n",
              "2  100546       0      NaN   Male  model_19         Other   \n",
              "3   30920       0      NaN   Male  model_19         Other   \n",
              "4   68275       0      NaN   Male   model_5     Large/SUV   \n",
              "5   92955       0      NaN   Male   model_1           LCV   \n",
              "\n",
              "   age_of_vehicle_years  sched_serv_warr  non_sched_serv_warr  \\\n",
              "0                     9                1                    1   \n",
              "1                     9                1                    1   \n",
              "2                     9                1                    1   \n",
              "3                     9                1                    1   \n",
              "4                     9                1                    1   \n",
              "5                     9                1                    1   \n",
              "\n",
              "   sched_serv_paid  non_sched_serv_paid  total_paid_services  total_services  \\\n",
              "0                1                    3                    2               1   \n",
              "1                1                    3                    2               1   \n",
              "2                1                    3                    2               1   \n",
              "3                3                    1                    2               1   \n",
              "4                3                    1                    2               1   \n",
              "5                3                    1                    2               1   \n",
              "\n",
              "   mth_since_last_serv  annualised_mileage  num_dealers_visited  \\\n",
              "0                    1                   1                    1   \n",
              "1                    1                   1                    1   \n",
              "2                    1                   1                    1   \n",
              "3                    1                   1                    1   \n",
              "4                    1                   1                    1   \n",
              "5                    1                   1                    1   \n",
              "\n",
              "   num_serv_dealer_purchased    ID_y car_segment_y  \n",
              "0                          1  100546         Other  \n",
              "1                          1  100546         Other  \n",
              "2                          1  100546         Other  \n",
              "3                          1   30920         Other  \n",
              "4                          1   30920         Other  \n",
              "5                          1   30920         Other  "
            ],
            "text/html": [
              "\n",
              "  <div id=\"df-d3574ca6-12cb-47d4-ab8e-67107c349507\">\n",
              "    <div class=\"colab-df-container\">\n",
              "      <div>\n",
              "<style scoped>\n",
              "    .dataframe tbody tr th:only-of-type {\n",
              "        vertical-align: middle;\n",
              "    }\n",
              "\n",
              "    .dataframe tbody tr th {\n",
              "        vertical-align: top;\n",
              "    }\n",
              "\n",
              "    .dataframe thead th {\n",
              "        text-align: right;\n",
              "    }\n",
              "</style>\n",
              "<table border=\"1\" class=\"dataframe\">\n",
              "  <thead>\n",
              "    <tr style=\"text-align: right;\">\n",
              "      <th></th>\n",
              "      <th>ID_x</th>\n",
              "      <th>Target</th>\n",
              "      <th>age_band</th>\n",
              "      <th>gender</th>\n",
              "      <th>car_model</th>\n",
              "      <th>car_segment_x</th>\n",
              "      <th>age_of_vehicle_years</th>\n",
              "      <th>sched_serv_warr</th>\n",
              "      <th>non_sched_serv_warr</th>\n",
              "      <th>sched_serv_paid</th>\n",
              "      <th>non_sched_serv_paid</th>\n",
              "      <th>total_paid_services</th>\n",
              "      <th>total_services</th>\n",
              "      <th>mth_since_last_serv</th>\n",
              "      <th>annualised_mileage</th>\n",
              "      <th>num_dealers_visited</th>\n",
              "      <th>num_serv_dealer_purchased</th>\n",
              "      <th>ID_y</th>\n",
              "      <th>car_segment_y</th>\n",
              "    </tr>\n",
              "  </thead>\n",
              "  <tbody>\n",
              "    <tr>\n",
              "      <th>0</th>\n",
              "      <td>3529</td>\n",
              "      <td>0</td>\n",
              "      <td>NaN</td>\n",
              "      <td>Male</td>\n",
              "      <td>model_3</td>\n",
              "      <td>Large/SUV</td>\n",
              "      <td>9</td>\n",
              "      <td>1</td>\n",
              "      <td>1</td>\n",
              "      <td>1</td>\n",
              "      <td>3</td>\n",
              "      <td>2</td>\n",
              "      <td>1</td>\n",
              "      <td>1</td>\n",
              "      <td>1</td>\n",
              "      <td>1</td>\n",
              "      <td>1</td>\n",
              "      <td>100546</td>\n",
              "      <td>Other</td>\n",
              "    </tr>\n",
              "    <tr>\n",
              "      <th>1</th>\n",
              "      <td>81547</td>\n",
              "      <td>0</td>\n",
              "      <td>NaN</td>\n",
              "      <td>Male</td>\n",
              "      <td>model_5</td>\n",
              "      <td>Large/SUV</td>\n",
              "      <td>9</td>\n",
              "      <td>1</td>\n",
              "      <td>1</td>\n",
              "      <td>1</td>\n",
              "      <td>3</td>\n",
              "      <td>2</td>\n",
              "      <td>1</td>\n",
              "      <td>1</td>\n",
              "      <td>1</td>\n",
              "      <td>1</td>\n",
              "      <td>1</td>\n",
              "      <td>100546</td>\n",
              "      <td>Other</td>\n",
              "    </tr>\n",
              "    <tr>\n",
              "      <th>2</th>\n",
              "      <td>100546</td>\n",
              "      <td>0</td>\n",
              "      <td>NaN</td>\n",
              "      <td>Male</td>\n",
              "      <td>model_19</td>\n",
              "      <td>Other</td>\n",
              "      <td>9</td>\n",
              "      <td>1</td>\n",
              "      <td>1</td>\n",
              "      <td>1</td>\n",
              "      <td>3</td>\n",
              "      <td>2</td>\n",
              "      <td>1</td>\n",
              "      <td>1</td>\n",
              "      <td>1</td>\n",
              "      <td>1</td>\n",
              "      <td>1</td>\n",
              "      <td>100546</td>\n",
              "      <td>Other</td>\n",
              "    </tr>\n",
              "    <tr>\n",
              "      <th>3</th>\n",
              "      <td>30920</td>\n",
              "      <td>0</td>\n",
              "      <td>NaN</td>\n",
              "      <td>Male</td>\n",
              "      <td>model_19</td>\n",
              "      <td>Other</td>\n",
              "      <td>9</td>\n",
              "      <td>1</td>\n",
              "      <td>1</td>\n",
              "      <td>3</td>\n",
              "      <td>1</td>\n",
              "      <td>2</td>\n",
              "      <td>1</td>\n",
              "      <td>1</td>\n",
              "      <td>1</td>\n",
              "      <td>1</td>\n",
              "      <td>1</td>\n",
              "      <td>30920</td>\n",
              "      <td>Other</td>\n",
              "    </tr>\n",
              "    <tr>\n",
              "      <th>4</th>\n",
              "      <td>68275</td>\n",
              "      <td>0</td>\n",
              "      <td>NaN</td>\n",
              "      <td>Male</td>\n",
              "      <td>model_5</td>\n",
              "      <td>Large/SUV</td>\n",
              "      <td>9</td>\n",
              "      <td>1</td>\n",
              "      <td>1</td>\n",
              "      <td>3</td>\n",
              "      <td>1</td>\n",
              "      <td>2</td>\n",
              "      <td>1</td>\n",
              "      <td>1</td>\n",
              "      <td>1</td>\n",
              "      <td>1</td>\n",
              "      <td>1</td>\n",
              "      <td>30920</td>\n",
              "      <td>Other</td>\n",
              "    </tr>\n",
              "    <tr>\n",
              "      <th>5</th>\n",
              "      <td>92955</td>\n",
              "      <td>0</td>\n",
              "      <td>NaN</td>\n",
              "      <td>Male</td>\n",
              "      <td>model_1</td>\n",
              "      <td>LCV</td>\n",
              "      <td>9</td>\n",
              "      <td>1</td>\n",
              "      <td>1</td>\n",
              "      <td>3</td>\n",
              "      <td>1</td>\n",
              "      <td>2</td>\n",
              "      <td>1</td>\n",
              "      <td>1</td>\n",
              "      <td>1</td>\n",
              "      <td>1</td>\n",
              "      <td>1</td>\n",
              "      <td>30920</td>\n",
              "      <td>Other</td>\n",
              "    </tr>\n",
              "  </tbody>\n",
              "</table>\n",
              "</div>\n",
              "      <button class=\"colab-df-convert\" onclick=\"convertToInteractive('df-d3574ca6-12cb-47d4-ab8e-67107c349507')\"\n",
              "              title=\"Convert this dataframe to an interactive table.\"\n",
              "              style=\"display:none;\">\n",
              "        \n",
              "  <svg xmlns=\"http://www.w3.org/2000/svg\" height=\"24px\"viewBox=\"0 0 24 24\"\n",
              "       width=\"24px\">\n",
              "    <path d=\"M0 0h24v24H0V0z\" fill=\"none\"/>\n",
              "    <path d=\"M18.56 5.44l.94 2.06.94-2.06 2.06-.94-2.06-.94-.94-2.06-.94 2.06-2.06.94zm-11 1L8.5 8.5l.94-2.06 2.06-.94-2.06-.94L8.5 2.5l-.94 2.06-2.06.94zm10 10l.94 2.06.94-2.06 2.06-.94-2.06-.94-.94-2.06-.94 2.06-2.06.94z\"/><path d=\"M17.41 7.96l-1.37-1.37c-.4-.4-.92-.59-1.43-.59-.52 0-1.04.2-1.43.59L10.3 9.45l-7.72 7.72c-.78.78-.78 2.05 0 2.83L4 21.41c.39.39.9.59 1.41.59.51 0 1.02-.2 1.41-.59l7.78-7.78 2.81-2.81c.8-.78.8-2.07 0-2.86zM5.41 20L4 18.59l7.72-7.72 1.47 1.35L5.41 20z\"/>\n",
              "  </svg>\n",
              "      </button>\n",
              "      \n",
              "  <style>\n",
              "    .colab-df-container {\n",
              "      display:flex;\n",
              "      flex-wrap:wrap;\n",
              "      gap: 12px;\n",
              "    }\n",
              "\n",
              "    .colab-df-convert {\n",
              "      background-color: #E8F0FE;\n",
              "      border: none;\n",
              "      border-radius: 50%;\n",
              "      cursor: pointer;\n",
              "      display: none;\n",
              "      fill: #1967D2;\n",
              "      height: 32px;\n",
              "      padding: 0 0 0 0;\n",
              "      width: 32px;\n",
              "    }\n",
              "\n",
              "    .colab-df-convert:hover {\n",
              "      background-color: #E2EBFA;\n",
              "      box-shadow: 0px 1px 2px rgba(60, 64, 67, 0.3), 0px 1px 3px 1px rgba(60, 64, 67, 0.15);\n",
              "      fill: #174EA6;\n",
              "    }\n",
              "\n",
              "    [theme=dark] .colab-df-convert {\n",
              "      background-color: #3B4455;\n",
              "      fill: #D2E3FC;\n",
              "    }\n",
              "\n",
              "    [theme=dark] .colab-df-convert:hover {\n",
              "      background-color: #434B5C;\n",
              "      box-shadow: 0px 1px 3px 1px rgba(0, 0, 0, 0.15);\n",
              "      filter: drop-shadow(0px 1px 2px rgba(0, 0, 0, 0.3));\n",
              "      fill: #FFFFFF;\n",
              "    }\n",
              "  </style>\n",
              "\n",
              "      <script>\n",
              "        const buttonEl =\n",
              "          document.querySelector('#df-d3574ca6-12cb-47d4-ab8e-67107c349507 button.colab-df-convert');\n",
              "        buttonEl.style.display =\n",
              "          google.colab.kernel.accessAllowed ? 'block' : 'none';\n",
              "\n",
              "        async function convertToInteractive(key) {\n",
              "          const element = document.querySelector('#df-d3574ca6-12cb-47d4-ab8e-67107c349507');\n",
              "          const dataTable =\n",
              "            await google.colab.kernel.invokeFunction('convertToInteractive',\n",
              "                                                     [key], {});\n",
              "          if (!dataTable) return;\n",
              "\n",
              "          const docLinkHtml = 'Like what you see? Visit the ' +\n",
              "            '<a target=\"_blank\" href=https://colab.research.google.com/notebooks/data_table.ipynb>data table notebook</a>'\n",
              "            + ' to learn more about interactive tables.';\n",
              "          element.innerHTML = '';\n",
              "          dataTable['output_type'] = 'display_data';\n",
              "          await google.colab.output.renderOutput(dataTable, element);\n",
              "          const docLink = document.createElement('div');\n",
              "          docLink.innerHTML = docLinkHtml;\n",
              "          element.appendChild(docLink);\n",
              "        }\n",
              "      </script>\n",
              "    </div>\n",
              "  </div>\n",
              "  "
            ]
          },
          "metadata": {},
          "execution_count": 12
        }
      ]
    },
    {
      "cell_type": "markdown",
      "source": [
        "Not only one model could match model 19, so it better to remove data with model 19"
      ],
      "metadata": {
        "id": "0FVD7-2bDFSC"
      }
    },
    {
      "cell_type": "markdown",
      "source": [
        "**[2.3]** Remove model_19"
      ],
      "metadata": {
        "id": "Po1HP0Caxjkc"
      }
    },
    {
      "cell_type": "code",
      "source": [
        "df_cleaned=df_cleaned[df_cleaned['car_model']!='model_19']"
      ],
      "metadata": {
        "id": "tU_kfE-cxjGn"
      },
      "execution_count": null,
      "outputs": []
    },
    {
      "cell_type": "markdown",
      "source": [
        "**[2.4]** Drop non-numeric columns"
      ],
      "metadata": {
        "id": "L4dap4c8DnX5"
      }
    },
    {
      "cell_type": "code",
      "source": [
        "df_cleaned.drop(['age_band','gender','car_model','car_segment','ID'], axis=1,inplace=True)"
      ],
      "metadata": {
        "colab": {
          "base_uri": "https://localhost:8080/"
        },
        "id": "J_u9IUX9EPWi",
        "outputId": "4a7a41cc-032d-4dc3-e21b-904b5b4c8edf"
      },
      "execution_count": null,
      "outputs": [
        {
          "output_type": "stream",
          "name": "stderr",
          "text": [
            "<ipython-input-14-11e271c8384a>:1: SettingWithCopyWarning: \n",
            "A value is trying to be set on a copy of a slice from a DataFrame\n",
            "\n",
            "See the caveats in the documentation: https://pandas.pydata.org/pandas-docs/stable/user_guide/indexing.html#returning-a-view-versus-a-copy\n",
            "  df_cleaned.drop(['age_band','gender','car_model','car_segment','ID'], axis=1,inplace=True)\n"
          ]
        }
      ]
    },
    {
      "cell_type": "markdown",
      "metadata": {
        "id": "Xn1np3VWulIf"
      },
      "source": [
        "**[2.5]** Remove all observation with missing values:"
      ]
    },
    {
      "cell_type": "code",
      "metadata": {
        "id": "rLjX-NPHD_H5",
        "colab": {
          "base_uri": "https://localhost:8080/"
        },
        "outputId": "6a13af79-3043-43ca-c07e-2f679f1d860e"
      },
      "source": [
        "df_cleaned.dropna(how='any', inplace=True)"
      ],
      "execution_count": null,
      "outputs": [
        {
          "output_type": "stream",
          "name": "stderr",
          "text": [
            "<ipython-input-15-8769c4db0ffb>:1: SettingWithCopyWarning: \n",
            "A value is trying to be set on a copy of a slice from a DataFrame\n",
            "\n",
            "See the caveats in the documentation: https://pandas.pydata.org/pandas-docs/stable/user_guide/indexing.html#returning-a-view-versus-a-copy\n",
            "  df_cleaned.dropna(how='any', inplace=True)\n"
          ]
        }
      ]
    },
    {
      "cell_type": "markdown",
      "source": [
        "## 3. Data Splitting"
      ],
      "metadata": {
        "id": "zQvGUYHjpdIc"
      }
    },
    {
      "cell_type": "code",
      "source": [
        "from sklearn.model_selection import train_test_split"
      ],
      "metadata": {
        "id": "hsx5ZcaPopla"
      },
      "execution_count": null,
      "outputs": []
    },
    {
      "cell_type": "code",
      "source": [
        "y = df_cleaned.pop('Target')\n",
        "X = df_cleaned\n",
        "X_data, X_test, y_data, y_test = train_test_split(X, y, test_size=0.2, random_state=42, stratify=y)\n"
      ],
      "metadata": {
        "id": "QuApX5yvIL1p"
      },
      "execution_count": null,
      "outputs": []
    },
    {
      "cell_type": "code",
      "source": [
        "X_train, X_val, y_train, y_val = train_test_split(X_data, y_data, test_size=0.2, random_state=42, stratify=y_data)"
      ],
      "metadata": {
        "id": "1see6IyoJrr1"
      },
      "execution_count": null,
      "outputs": []
    },
    {
      "cell_type": "code",
      "source": [
        "f1_score(y_train, y_base)"
      ],
      "metadata": {
        "colab": {
          "base_uri": "https://localhost:8080/"
        },
        "id": "Ko9zi1olVfgl",
        "outputId": "004f2db4-a50a-45d2-af1d-4ff9e79fa274"
      },
      "execution_count": null,
      "outputs": [
        {
          "output_type": "execute_result",
          "data": {
            "text/plain": [
              "0.0"
            ]
          },
          "metadata": {},
          "execution_count": 22
        }
      ]
    },
    {
      "cell_type": "markdown",
      "metadata": {
        "id": "m_iUTKpT6ZGw"
      },
      "source": [
        "## 4. Train a Decision Tree with Default Hyperparameters"
      ]
    },
    {
      "cell_type": "markdown",
      "metadata": {
        "id": "E8wdGmLzp7oV"
      },
      "source": [
        "**[4.1]** Import DecisionTreeClassifier from sklearn.tree"
      ]
    },
    {
      "cell_type": "code",
      "metadata": {
        "id": "rdwVMUaAp7wR"
      },
      "source": [
        "from sklearn.tree import DecisionTreeClassifier"
      ],
      "execution_count": null,
      "outputs": []
    },
    {
      "cell_type": "markdown",
      "metadata": {
        "id": "y3BV1IPrqDzF"
      },
      "source": [
        "**[4.2]** Instantiate a DecisionTreeClassifier() model."
      ]
    },
    {
      "cell_type": "code",
      "metadata": {
        "id": "BF5LZh6tqD6w"
      },
      "source": [
        "tree_1 = DecisionTreeClassifier(random_state=42)"
      ],
      "execution_count": null,
      "outputs": []
    },
    {
      "cell_type": "markdown",
      "metadata": {
        "id": "WBeHk83fqJ7B"
      },
      "source": [
        "**[4.3]** Train the model on the training set and save the predictions from the training and validation sets\n",
        "\n"
      ]
    },
    {
      "cell_type": "code",
      "metadata": {
        "id": "XWjBRzTSqKGa"
      },
      "source": [
        "tree_1.fit(X_train, y_train)\n",
        "y_train_preds = tree_1.predict(X_train)\n",
        "y_val_preds = tree_1.predict(X_val)"
      ],
      "execution_count": null,
      "outputs": []
    },
    {
      "cell_type": "markdown",
      "source": [
        "**[4.5]** Print the f1 score of the training and validation sets"
      ],
      "metadata": {
        "id": "gUypa-5CFrXI"
      }
    },
    {
      "cell_type": "code",
      "source": [
        "from sklearn.metrics import f1_score\n",
        "print(f1_score(y_train, y_train_preds))\n",
        "print(f1_score(y_val, y_val_preds))"
      ],
      "metadata": {
        "colab": {
          "base_uri": "https://localhost:8080/"
        },
        "id": "3kPMdZl9Frfn",
        "outputId": "895486fd-5969-41e5-afa3-0dcdde033e4c"
      },
      "execution_count": null,
      "outputs": [
        {
          "output_type": "stream",
          "name": "stdout",
          "text": [
            "0.9997781229199023\n",
            "0.7875555555555556\n"
          ]
        }
      ]
    },
    {
      "cell_type": "markdown",
      "source": [
        "## 5.  Reduce Overfitting with min_samples_split"
      ],
      "metadata": {
        "id": "q22-dUSkvX_a"
      }
    },
    {
      "cell_type": "markdown",
      "source": [
        "**[5.1]** Train a DecisionTree model with min_samples_split=15"
      ],
      "metadata": {
        "id": "HFxXn9Iyvf_U"
      }
    },
    {
      "cell_type": "code",
      "source": [
        "tree_2 = DecisionTreeClassifier(random_state=42, min_samples_split=15)\n",
        "tree_2.fit(X_train, y_train)\n",
        "y_train_preds = tree_2.predict(X_train)\n",
        "y_val_preds = tree_2.predict(X_val)"
      ],
      "metadata": {
        "id": "5MjTMIUWva17"
      },
      "execution_count": null,
      "outputs": []
    },
    {
      "cell_type": "markdown",
      "source": [
        "**[5.2]**Print the f1 score of the training and validation sets"
      ],
      "metadata": {
        "id": "NGQ-yipnv28Z"
      }
    },
    {
      "cell_type": "code",
      "source": [
        "print(f1_score(y_train, y_train_preds))\n",
        "print(f1_score(y_val, y_val_preds))"
      ],
      "metadata": {
        "colab": {
          "base_uri": "https://localhost:8080/"
        },
        "id": "sjDw0c4VwAiL",
        "outputId": "cefeece9-606c-46dd-de2f-999bfe015b70"
      },
      "execution_count": null,
      "outputs": [
        {
          "output_type": "stream",
          "name": "stdout",
          "text": [
            "0.8863423760523854\n",
            "0.8172248803827752\n"
          ]
        }
      ]
    },
    {
      "cell_type": "markdown",
      "source": [
        "**[5.3]** Train a DecisionTree model with min_samples_split=45"
      ],
      "metadata": {
        "id": "xMWfL_QbxWLq"
      }
    },
    {
      "cell_type": "code",
      "source": [
        "tree_3 = DecisionTreeClassifier(random_state=42, min_samples_split=45)\n",
        "tree_3.fit(X_train, y_train)\n",
        "y_train_preds = tree_3.predict(X_train)\n",
        "y_val_preds = tree_3.predict(X_val)"
      ],
      "metadata": {
        "id": "N35vOxkExWLs"
      },
      "execution_count": null,
      "outputs": []
    },
    {
      "cell_type": "markdown",
      "source": [
        "**[5.4]**Print the f1 score of the training and validation sets"
      ],
      "metadata": {
        "id": "dSJmawjgxWLt"
      }
    },
    {
      "cell_type": "code",
      "source": [
        "print(f1_score(y_train, y_train_preds))\n",
        "print(f1_score(y_val, y_val_preds))"
      ],
      "metadata": {
        "colab": {
          "base_uri": "https://localhost:8080/"
        },
        "outputId": "4c71fcbc-2d22-4a4b-a705-a8c80c74b26d",
        "id": "NMj0wQxQxWLt"
      },
      "execution_count": null,
      "outputs": [
        {
          "output_type": "stream",
          "name": "stdout",
          "text": [
            "0.819872851424535\n",
            "0.7892204042348412\n"
          ]
        }
      ]
    },
    {
      "cell_type": "markdown",
      "source": [
        "**[5.5]** Train a DecisionTree model with min_samples_split=75"
      ],
      "metadata": {
        "id": "mzFQ2QUkxq7o"
      }
    },
    {
      "cell_type": "code",
      "source": [
        "tree_4 = DecisionTreeClassifier(random_state=42, min_samples_split=75)\n",
        "tree_4.fit(X_train, y_train)\n",
        "y_train_preds = tree_4.predict(X_train)\n",
        "y_val_preds = tree_4.predict(X_val)"
      ],
      "metadata": {
        "id": "FkXh-NeZxq7p"
      },
      "execution_count": null,
      "outputs": []
    },
    {
      "cell_type": "markdown",
      "source": [
        "**[5.6]**Print the f1 score of the training and validation sets"
      ],
      "metadata": {
        "id": "N1B84MVjxq7q"
      }
    },
    {
      "cell_type": "code",
      "source": [
        "print(f1_score(y_train, y_train_preds))\n",
        "print(f1_score(y_val, y_val_preds))\n",
        "print(f1_score(y_train, y_train_preds)-f1_score(y_val, y_val_preds))"
      ],
      "metadata": {
        "colab": {
          "base_uri": "https://localhost:8080/"
        },
        "outputId": "6f2fca1a-cb98-43df-b550-c3335799ad04",
        "id": "Nw-_k6Rxxq7r"
      },
      "execution_count": null,
      "outputs": [
        {
          "output_type": "stream",
          "name": "stdout",
          "text": [
            "0.8083411433926897\n",
            "0.7961904761904761\n",
            "0.012150667202213583\n"
          ]
        }
      ]
    },
    {
      "cell_type": "markdown",
      "source": [
        "**[5.7]** Train a DecisionTree model with min_samples_split=85"
      ],
      "metadata": {
        "id": "RlsfqGbJx6WW"
      }
    },
    {
      "cell_type": "code",
      "source": [
        "tree_5 = DecisionTreeClassifier(random_state=42, min_samples_split=85)\n",
        "tree_5.fit(X_train, y_train)\n",
        "y_train_preds = tree_5.predict(X_train)\n",
        "y_val_preds = tree_5.predict(X_val)"
      ],
      "metadata": {
        "id": "zQS0LRZbx6WY"
      },
      "execution_count": null,
      "outputs": []
    },
    {
      "cell_type": "markdown",
      "source": [
        "**[5.8]**Print the f1 score of the training and validation sets"
      ],
      "metadata": {
        "id": "BR_CWC8Rx6WY"
      }
    },
    {
      "cell_type": "code",
      "source": [
        "print(f1_score(y_train, y_train_preds))\n",
        "print(f1_score(y_val, y_val_preds))\n",
        "print(f1_score(y_train, y_train_preds)-f1_score(y_val, y_val_preds))"
      ],
      "metadata": {
        "colab": {
          "base_uri": "https://localhost:8080/"
        },
        "outputId": "4282bcde-8767-4992-d568-6aa944dff700",
        "id": "FQ5jfaYFx6WZ"
      },
      "execution_count": null,
      "outputs": [
        {
          "output_type": "stream",
          "name": "stdout",
          "text": [
            "0.8018890200708382\n",
            "0.77487922705314\n",
            "0.027009793017698125\n"
          ]
        }
      ]
    },
    {
      "cell_type": "markdown",
      "source": [
        "## 6.  Reduce Further Overfitting with max_depth"
      ],
      "metadata": {
        "id": "3WSbVC1N0_Uy"
      }
    },
    {
      "cell_type": "markdown",
      "source": [
        "**[6.1]** Train a DecisionTree model with max_depth=3"
      ],
      "metadata": {
        "id": "Y0memoJM1OIx"
      }
    },
    {
      "cell_type": "code",
      "source": [
        "tree_depth_1 = DecisionTreeClassifier(random_state=42, min_samples_split=75, max_depth=3)\n",
        "tree_depth_1.fit(X_train, y_train)\n",
        "y_train_preds = tree_depth_1.predict(X_train)\n",
        "y_val_preds = tree_depth_1.predict(X_val)"
      ],
      "metadata": {
        "id": "tcPhwDfa1OIz"
      },
      "execution_count": null,
      "outputs": []
    },
    {
      "cell_type": "markdown",
      "source": [
        "**[6.2]**Print the f1 score of the training and validation sets"
      ],
      "metadata": {
        "id": "67HMI23c1OI1"
      }
    },
    {
      "cell_type": "code",
      "source": [
        "print(f1_score(y_train, y_train_preds))\n",
        "print(f1_score(y_val, y_val_preds))\n",
        "print(f1_score(y_train, y_train_preds)-f1_score(y_val, y_val_preds))"
      ],
      "metadata": {
        "colab": {
          "base_uri": "https://localhost:8080/"
        },
        "outputId": "7d9d7524-210a-433f-edb4-ef0fc65fb91d",
        "id": "OXHm5Wcu1OI2"
      },
      "execution_count": null,
      "outputs": [
        {
          "output_type": "stream",
          "name": "stdout",
          "text": [
            "0.43464952555861647\n",
            "0.4306930693069307\n",
            "0.00395645625168578\n"
          ]
        }
      ]
    },
    {
      "cell_type": "markdown",
      "source": [
        "**[6.3]** Train a DecisionTree model with max_depth=8"
      ],
      "metadata": {
        "id": "w4_aLFqz23VU"
      }
    },
    {
      "cell_type": "code",
      "source": [
        "tree_depth_2 = DecisionTreeClassifier(random_state=42, min_samples_split=75, max_depth=8)\n",
        "tree_depth_2.fit(X_train, y_train)\n",
        "y_train_preds = tree_depth_2.predict(X_train)\n",
        "y_val_preds = tree_depth_2.predict(X_val)"
      ],
      "metadata": {
        "id": "Ow_Zi-V323VV"
      },
      "execution_count": null,
      "outputs": []
    },
    {
      "cell_type": "markdown",
      "source": [
        "**[6.4]**Print the f1 score of the training and validation sets"
      ],
      "metadata": {
        "id": "fEtpMBLA23VW"
      }
    },
    {
      "cell_type": "code",
      "source": [
        "print(f1_score(y_train, y_train_preds))\n",
        "print(f1_score(y_val, y_val_preds))\n",
        "print(f1_score(y_train, y_train_preds)-f1_score(y_val, y_val_preds))"
      ],
      "metadata": {
        "colab": {
          "base_uri": "https://localhost:8080/"
        },
        "outputId": "f0df2302-b4a6-40d7-ec00-f3da6a8701d0",
        "id": "ha3fZDcp23VX"
      },
      "execution_count": null,
      "outputs": [
        {
          "output_type": "stream",
          "name": "stdout",
          "text": [
            "0.709522539343825\n",
            "0.7039827771797632\n",
            "0.005539762164061823\n"
          ]
        }
      ]
    },
    {
      "cell_type": "markdown",
      "source": [
        "**[6.5]** Train a DecisionTree model with max_depth=13"
      ],
      "metadata": {
        "id": "VSsOHijL3fxa"
      }
    },
    {
      "cell_type": "code",
      "source": [
        "tree_depth_3 = DecisionTreeClassifier(random_state=42, min_samples_split=75, max_depth=13)\n",
        "tree_depth_3.fit(X_train, y_train)\n",
        "y_train_preds = tree_depth_3.predict(X_train)\n",
        "y_val_preds = tree_depth_3.predict(X_val)"
      ],
      "metadata": {
        "id": "1zYHbUtH3fxd"
      },
      "execution_count": null,
      "outputs": []
    },
    {
      "cell_type": "markdown",
      "source": [
        "**[6.6]**Print the f1 score of the training and validation sets"
      ],
      "metadata": {
        "id": "3IF50L1g3fxf"
      }
    },
    {
      "cell_type": "code",
      "source": [
        "print(f1_score(y_train, y_train_preds))\n",
        "print(f1_score(y_val, y_val_preds))\n",
        "print(f1_score(y_train, y_train_preds)-f1_score(y_val, y_val_preds))"
      ],
      "metadata": {
        "colab": {
          "base_uri": "https://localhost:8080/"
        },
        "outputId": "39469613-d0b8-4f41-c3ec-da82aac08290",
        "id": "EBrzrDr-3fxg"
      },
      "execution_count": null,
      "outputs": [
        {
          "output_type": "stream",
          "name": "stdout",
          "text": [
            "0.8075029308323564\n",
            "0.7961904761904761\n",
            "0.011312454641880243\n"
          ]
        }
      ]
    },
    {
      "cell_type": "markdown",
      "source": [
        "**[6.7]** Train a DecisionTree model with max_depth=18"
      ],
      "metadata": {
        "id": "ABP-a0fO39vx"
      }
    },
    {
      "cell_type": "code",
      "source": [
        "tree_depth_4 = DecisionTreeClassifier(random_state=42, min_samples_split=75, max_depth=18)\n",
        "tree_depth_4.fit(X_train, y_train)\n",
        "y_train_preds = tree_depth_4.predict(X_train)\n",
        "y_val_preds = tree_depth_4.predict(X_val)"
      ],
      "metadata": {
        "id": "JMY4KQFA39vy"
      },
      "execution_count": null,
      "outputs": []
    },
    {
      "cell_type": "markdown",
      "source": [
        "**[6.8]**Print the f1 score of the training and validation sets"
      ],
      "metadata": {
        "id": "RysRe7Ya39vz"
      }
    },
    {
      "cell_type": "code",
      "source": [
        "print(f1_score(y_train, y_train_preds))\n",
        "print(f1_score(y_val, y_val_preds))\n",
        "print(f1_score(y_train, y_train_preds)-f1_score(y_val, y_val_preds))"
      ],
      "metadata": {
        "colab": {
          "base_uri": "https://localhost:8080/"
        },
        "outputId": "8e173100-d67e-42df-a101-185319c0c5f7",
        "id": "A4R6nLJp39vz"
      },
      "execution_count": null,
      "outputs": [
        {
          "output_type": "stream",
          "name": "stdout",
          "text": [
            "0.8083411433926897\n",
            "0.7961904761904761\n",
            "0.012150667202213583\n"
          ]
        }
      ]
    },
    {
      "cell_type": "markdown",
      "source": [
        "## 7. Assess model on Testing Set"
      ],
      "metadata": {
        "id": "xr4avc2gI9n6"
      }
    },
    {
      "cell_type": "markdown",
      "metadata": {
        "id": "vERrawAEtJA_"
      },
      "source": [
        "**[7]** Print the F1 scores of our best model on the testing set"
      ]
    },
    {
      "cell_type": "code",
      "metadata": {
        "id": "jOZvc8GGtePw",
        "colab": {
          "base_uri": "https://localhost:8080/"
        },
        "outputId": "68d78ad8-1e78-4936-8431-2660400e36ad"
      },
      "source": [
        "y_test_preds = tree_depth_3.predict(X_test)\n",
        "print(f1_score(y_test, y_test_preds))"
      ],
      "execution_count": null,
      "outputs": [
        {
          "output_type": "stream",
          "name": "stdout",
          "text": [
            "0.8006042296072508\n"
          ]
        }
      ]
    },
    {
      "cell_type": "markdown",
      "source": [
        "**[7]** Display the confusion matrix for our best model on all sets"
      ],
      "metadata": {
        "id": "JNi3_KOrhgtj"
      }
    },
    {
      "cell_type": "code",
      "source": [
        "from sklearn.metrics import confusion_matrix, ConfusionMatrixDisplay\n",
        "import matplotlib.pyplot as plt\n",
        "ConfusionMatrixDisplay.from_estimator(tree_depth_3, X_test, y_test, normalize='true')"
      ],
      "metadata": {
        "id": "fkcEse_khbwq",
        "colab": {
          "base_uri": "https://localhost:8080/",
          "height": 466
        },
        "outputId": "7d511bfe-148d-485e-ee0c-8e62d9f1867c"
      },
      "execution_count": null,
      "outputs": [
        {
          "output_type": "execute_result",
          "data": {
            "text/plain": [
              "<sklearn.metrics._plot.confusion_matrix.ConfusionMatrixDisplay at 0x7fbd03224280>"
            ]
          },
          "metadata": {},
          "execution_count": 223
        },
        {
          "output_type": "display_data",
          "data": {
            "text/plain": [
              "<Figure size 640x480 with 2 Axes>"
            ],
            "image/png": "[encoded data removed]"
          },
          "metadata": {}
        }
      ]
    }
  ]
}